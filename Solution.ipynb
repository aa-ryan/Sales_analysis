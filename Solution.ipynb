{
  "cells": [
    {
      "cell_type": "markdown",
      "metadata": {
        "id": "NAcQr98KvN31"
      },
      "source": [
        "# AB-inBev Assignment\n",
        "# E-Commerce\n",
        "\n",
        "[Github Link](https://github.com/aa-ryan/AbinBev_Assignment) for Assignment.\n",
        "\n",
        "\n",
        "\n",
        "\n"
      ]
    },
    {
      "cell_type": "code",
      "execution_count": 1,
      "metadata": {
        "id": "7LUApAvOSXHZ"
      },
      "outputs": [
        {
          "name": "stdout",
          "output_type": "stream",
          "text": [
            "Requirement already satisfied: pandas in /Users/arx6363/opt/miniconda3/envs/hackpions1/lib/python3.8/site-packages (1.5.0)\n",
            "Requirement already satisfied: python-dateutil>=2.8.1 in /Users/arx6363/opt/miniconda3/envs/hackpions1/lib/python3.8/site-packages (from pandas) (2.8.2)\n",
            "Requirement already satisfied: pytz>=2020.1 in /Users/arx6363/opt/miniconda3/envs/hackpions1/lib/python3.8/site-packages (from pandas) (2022.5)\n",
            "Requirement already satisfied: numpy>=1.20.3 in /Users/arx6363/opt/miniconda3/envs/hackpions1/lib/python3.8/site-packages (from pandas) (1.23.4)\n",
            "Requirement already satisfied: six>=1.5 in /Users/arx6363/opt/miniconda3/envs/hackpions1/lib/python3.8/site-packages (from python-dateutil>=2.8.1->pandas) (1.16.0)\n",
            "Note: you may need to restart the kernel to use updated packages.\n"
          ]
        }
      ],
      "source": [
        "%pip install pandas\n",
        "import pandas as pd"
      ]
    },
    {
      "cell_type": "markdown",
      "metadata": {
        "id": "Sd9GRfC0ay2g"
      },
      "source": [
        "#### Convert CSV to Pandas Dataframe"
      ]
    },
    {
      "cell_type": "code",
      "execution_count": 2,
      "metadata": {
        "id": "-BKil7fGSiP1"
      },
      "outputs": [],
      "source": [
        "list_of_orders = pd.read_csv(\"data/list_of_orders.csv\")\n",
        "order_details = pd.read_csv(\"data/order_details.csv\")\n",
        "sales_target = pd.read_csv(\"data/sales_target.csv\")"
      ]
    },
    {
      "cell_type": "markdown",
      "metadata": {
        "id": "Uk7Ml8rHZzbg"
      },
      "source": [
        "## Pre-processing and Data Cleansing\n",
        "* [x] Check Shape of Data\n",
        "* [x] Check NA values\n",
        "* [x] Similar Date Format\n",
        "* [x] Check Data *info*"
      ]
    },
    {
      "cell_type": "markdown",
      "metadata": {
        "id": "Zs7T2wdPcHBR"
      },
      "source": [
        "#### Shape of Data"
      ]
    },
    {
      "cell_type": "code",
      "execution_count": 3,
      "metadata": {
        "colab": {
          "base_uri": "https://localhost:8080/"
        },
        "id": "fwkTPXNCZyR_",
        "outputId": "d4b31719-b809-46a8-d360-3cda506485e1"
      },
      "outputs": [
        {
          "name": "stdout",
          "output_type": "stream",
          "text": [
            "Dimensions of List of Order ->  (500, 5)\n",
            "Dimensions of Order Detail ->  (1500, 6)\n",
            "Dimensions of Sales Target ->  (36, 3)\n"
          ]
        }
      ],
      "source": [
        "print(\"Dimensions of List of Order -> \", list_of_orders.shape)\n",
        "print(\"Dimensions of Order Detail -> \", order_details.shape)\n",
        "print(\"Dimensions of Sales Target -> \", sales_target.shape)"
      ]
    },
    {
      "cell_type": "markdown",
      "metadata": {
        "id": "ldGz_fVfcKRo"
      },
      "source": [
        "#### Check NA values\n",
        "* None Found"
      ]
    },
    {
      "cell_type": "code",
      "execution_count": 4,
      "metadata": {
        "colab": {
          "base_uri": "https://localhost:8080/"
        },
        "id": "QF-5AVeucNhI",
        "outputId": "f50b6382-0086-4818-db98-91d26443cbc9"
      },
      "outputs": [
        {
          "name": "stdout",
          "output_type": "stream",
          "text": [
            "List of Orders DataFrame\n",
            "\n",
            "Order ID        0\n",
            "Order Date      0\n",
            "CustomerName    0\n",
            "State           0\n",
            "City            0\n",
            "dtype: int64\n",
            "\n",
            "Order Details DataFrame\n",
            "\n",
            "Order ID        0\n",
            "Amount          0\n",
            "Profit          0\n",
            "Quantity        0\n",
            "Category        0\n",
            "Sub-Category    0\n",
            "dtype: int64\n",
            "\n",
            "Sales Target DataFrame\n",
            "\n",
            "Month of Order Date    0\n",
            "Category               0\n",
            "Target                 0\n",
            "dtype: int64\n",
            "\n"
          ]
        }
      ],
      "source": [
        "print(\"List of Orders DataFrame\\n\")\n",
        "print(list_of_orders.isnull().sum(), end=\"\\n\\n\")\n",
        "print(\"Order Details DataFrame\\n\")\n",
        "print(order_details.isnull().sum(), end='\\n\\n')\n",
        "print(\"Sales Target DataFrame\\n\")\n",
        "print(sales_target.isnull().sum(), end='\\n\\n')"
      ]
    },
    {
      "cell_type": "markdown",
      "metadata": {
        "id": "ZzC2OTsUXXzg"
      },
      "source": [
        "#### Same format of Date\n",
        "* YYYY-MM-DD"
      ]
    },
    {
      "cell_type": "code",
      "execution_count": 8,
      "metadata": {
        "id": "Pr8rkEpwTnxH"
      },
      "outputs": [],
      "source": [
        "list_of_orders['Order Date'] =  pd.to_datetime(list_of_orders['Order Date'], dayfirst=True)"
      ]
    },
    {
      "cell_type": "markdown",
      "metadata": {
        "id": "6axrqkazcyY9"
      },
      "source": [
        "#### Check Data info\n",
        "* Focus on Dtype of Date"
      ]
    },
    {
      "cell_type": "code",
      "execution_count": 9,
      "metadata": {
        "colab": {
          "base_uri": "https://localhost:8080/"
        },
        "id": "XUIOb0FybVZn",
        "outputId": "a99efe28-b07d-43c1-d5d8-3488575eafe9"
      },
      "outputs": [
        {
          "name": "stdout",
          "output_type": "stream",
          "text": [
            "<class 'pandas.core.frame.DataFrame'>\n",
            "RangeIndex: 500 entries, 0 to 499\n",
            "Data columns (total 5 columns):\n",
            " #   Column        Non-Null Count  Dtype         \n",
            "---  ------        --------------  -----         \n",
            " 0   Order ID      500 non-null    object        \n",
            " 1   Order Date    500 non-null    datetime64[ns]\n",
            " 2   CustomerName  500 non-null    object        \n",
            " 3   State         500 non-null    object        \n",
            " 4   City          500 non-null    object        \n",
            "dtypes: datetime64[ns](1), object(4)\n",
            "memory usage: 19.7+ KB\n",
            "<class 'pandas.core.frame.DataFrame'>\n",
            "RangeIndex: 1500 entries, 0 to 1499\n",
            "Data columns (total 6 columns):\n",
            " #   Column        Non-Null Count  Dtype \n",
            "---  ------        --------------  ----- \n",
            " 0   Order ID      1500 non-null   object\n",
            " 1   Amount        1500 non-null   int64 \n",
            " 2   Profit        1500 non-null   int64 \n",
            " 3   Quantity      1500 non-null   int64 \n",
            " 4   Category      1500 non-null   object\n",
            " 5   Sub-Category  1500 non-null   object\n",
            "dtypes: int64(3), object(3)\n",
            "memory usage: 70.4+ KB\n",
            "<class 'pandas.core.frame.DataFrame'>\n",
            "RangeIndex: 36 entries, 0 to 35\n",
            "Data columns (total 3 columns):\n",
            " #   Column               Non-Null Count  Dtype \n",
            "---  ------               --------------  ----- \n",
            " 0   Month of Order Date  36 non-null     object\n",
            " 1   Category             36 non-null     object\n",
            " 2   Target               36 non-null     int64 \n",
            "dtypes: int64(1), object(2)\n",
            "memory usage: 992.0+ bytes\n"
          ]
        }
      ],
      "source": [
        "list_of_orders.info()\n",
        "order_details.info()\n",
        "sales_target.info()"
      ]
    },
    {
      "cell_type": "markdown",
      "metadata": {
        "id": "AzXkI-3De2jz"
      },
      "source": [
        "## Dataset Overview"
      ]
    },
    {
      "cell_type": "code",
      "execution_count": 16,
      "metadata": {
        "colab": {
          "base_uri": "https://localhost:8080/",
          "height": 221
        },
        "id": "Hyee7ApCbJgY",
        "outputId": "d14f26e9-b87c-4eb4-8d93-22caa48bfba3"
      },
      "outputs": [
        {
          "name": "stdout",
          "output_type": "stream",
          "text": [
            "List of Orders DataFrame\n",
            "\n"
          ]
        },
        {
          "data": {
            "text/html": [
              "<div>\n",
              "<style scoped>\n",
              "    .dataframe tbody tr th:only-of-type {\n",
              "        vertical-align: middle;\n",
              "    }\n",
              "\n",
              "    .dataframe tbody tr th {\n",
              "        vertical-align: top;\n",
              "    }\n",
              "\n",
              "    .dataframe thead th {\n",
              "        text-align: right;\n",
              "    }\n",
              "</style>\n",
              "<table border=\"1\" class=\"dataframe\">\n",
              "  <thead>\n",
              "    <tr style=\"text-align: right;\">\n",
              "      <th></th>\n",
              "      <th>Order ID</th>\n",
              "      <th>Order Date</th>\n",
              "      <th>CustomerName</th>\n",
              "      <th>State</th>\n",
              "      <th>City</th>\n",
              "    </tr>\n",
              "  </thead>\n",
              "  <tbody>\n",
              "    <tr>\n",
              "      <th>0</th>\n",
              "      <td>B-25601</td>\n",
              "      <td>2018-04-01</td>\n",
              "      <td>Bharat</td>\n",
              "      <td>Gujarat</td>\n",
              "      <td>Ahmedabad</td>\n",
              "    </tr>\n",
              "    <tr>\n",
              "      <th>1</th>\n",
              "      <td>B-25602</td>\n",
              "      <td>2018-04-01</td>\n",
              "      <td>Pearl</td>\n",
              "      <td>Maharashtra</td>\n",
              "      <td>Pune</td>\n",
              "    </tr>\n",
              "    <tr>\n",
              "      <th>2</th>\n",
              "      <td>B-25603</td>\n",
              "      <td>2018-04-03</td>\n",
              "      <td>Jahan</td>\n",
              "      <td>Madhya Pradesh</td>\n",
              "      <td>Bhopal</td>\n",
              "    </tr>\n",
              "    <tr>\n",
              "      <th>3</th>\n",
              "      <td>B-25604</td>\n",
              "      <td>2018-04-03</td>\n",
              "      <td>Divsha</td>\n",
              "      <td>Rajasthan</td>\n",
              "      <td>Jaipur</td>\n",
              "    </tr>\n",
              "    <tr>\n",
              "      <th>4</th>\n",
              "      <td>B-25605</td>\n",
              "      <td>2018-04-05</td>\n",
              "      <td>Kasheen</td>\n",
              "      <td>West Bengal</td>\n",
              "      <td>Kolkata</td>\n",
              "    </tr>\n",
              "  </tbody>\n",
              "</table>\n",
              "</div>"
            ],
            "text/plain": [
              "  Order ID Order Date CustomerName           State       City\n",
              "0  B-25601 2018-04-01       Bharat         Gujarat  Ahmedabad\n",
              "1  B-25602 2018-04-01        Pearl     Maharashtra       Pune\n",
              "2  B-25603 2018-04-03        Jahan  Madhya Pradesh     Bhopal\n",
              "3  B-25604 2018-04-03       Divsha       Rajasthan     Jaipur\n",
              "4  B-25605 2018-04-05      Kasheen     West Bengal    Kolkata"
            ]
          },
          "execution_count": 16,
          "metadata": {},
          "output_type": "execute_result"
        }
      ],
      "source": [
        "print(\"List of Orders DataFrame\\n\")\n",
        "list_of_orders.head()"
      ]
    },
    {
      "cell_type": "code",
      "execution_count": 17,
      "metadata": {
        "id": "OfEtsIAAfFOo"
      },
      "outputs": [
        {
          "name": "stdout",
          "output_type": "stream",
          "text": [
            "Order Details DataFrame\n",
            "\n"
          ]
        },
        {
          "data": {
            "text/html": [
              "<div>\n",
              "<style scoped>\n",
              "    .dataframe tbody tr th:only-of-type {\n",
              "        vertical-align: middle;\n",
              "    }\n",
              "\n",
              "    .dataframe tbody tr th {\n",
              "        vertical-align: top;\n",
              "    }\n",
              "\n",
              "    .dataframe thead th {\n",
              "        text-align: right;\n",
              "    }\n",
              "</style>\n",
              "<table border=\"1\" class=\"dataframe\">\n",
              "  <thead>\n",
              "    <tr style=\"text-align: right;\">\n",
              "      <th></th>\n",
              "      <th>Order ID</th>\n",
              "      <th>Amount</th>\n",
              "      <th>Profit</th>\n",
              "      <th>Quantity</th>\n",
              "      <th>Category</th>\n",
              "      <th>Sub-Category</th>\n",
              "    </tr>\n",
              "  </thead>\n",
              "  <tbody>\n",
              "    <tr>\n",
              "      <th>0</th>\n",
              "      <td>B-25601</td>\n",
              "      <td>1275</td>\n",
              "      <td>-1148</td>\n",
              "      <td>7</td>\n",
              "      <td>Furniture</td>\n",
              "      <td>Bookcases</td>\n",
              "    </tr>\n",
              "    <tr>\n",
              "      <th>1</th>\n",
              "      <td>B-25601</td>\n",
              "      <td>66</td>\n",
              "      <td>-12</td>\n",
              "      <td>5</td>\n",
              "      <td>Clothing</td>\n",
              "      <td>Stole</td>\n",
              "    </tr>\n",
              "    <tr>\n",
              "      <th>2</th>\n",
              "      <td>B-25601</td>\n",
              "      <td>8</td>\n",
              "      <td>-2</td>\n",
              "      <td>3</td>\n",
              "      <td>Clothing</td>\n",
              "      <td>Hankerchief</td>\n",
              "    </tr>\n",
              "    <tr>\n",
              "      <th>3</th>\n",
              "      <td>B-25601</td>\n",
              "      <td>80</td>\n",
              "      <td>-56</td>\n",
              "      <td>4</td>\n",
              "      <td>Electronics</td>\n",
              "      <td>Electronic Games</td>\n",
              "    </tr>\n",
              "    <tr>\n",
              "      <th>4</th>\n",
              "      <td>B-25602</td>\n",
              "      <td>168</td>\n",
              "      <td>-111</td>\n",
              "      <td>2</td>\n",
              "      <td>Electronics</td>\n",
              "      <td>Phones</td>\n",
              "    </tr>\n",
              "  </tbody>\n",
              "</table>\n",
              "</div>"
            ],
            "text/plain": [
              "  Order ID  Amount  Profit  Quantity     Category      Sub-Category\n",
              "0  B-25601    1275   -1148         7    Furniture         Bookcases\n",
              "1  B-25601      66     -12         5     Clothing             Stole\n",
              "2  B-25601       8      -2         3     Clothing       Hankerchief\n",
              "3  B-25601      80     -56         4  Electronics  Electronic Games\n",
              "4  B-25602     168    -111         2  Electronics            Phones"
            ]
          },
          "execution_count": 17,
          "metadata": {},
          "output_type": "execute_result"
        }
      ],
      "source": [
        "print(\"Order Details DataFrame\\n\")\n",
        "order_details.head()"
      ]
    },
    {
      "cell_type": "code",
      "execution_count": 18,
      "metadata": {},
      "outputs": [
        {
          "name": "stdout",
          "output_type": "stream",
          "text": [
            "Sales Target DataFrame\n",
            "\n"
          ]
        },
        {
          "data": {
            "text/html": [
              "<div>\n",
              "<style scoped>\n",
              "    .dataframe tbody tr th:only-of-type {\n",
              "        vertical-align: middle;\n",
              "    }\n",
              "\n",
              "    .dataframe tbody tr th {\n",
              "        vertical-align: top;\n",
              "    }\n",
              "\n",
              "    .dataframe thead th {\n",
              "        text-align: right;\n",
              "    }\n",
              "</style>\n",
              "<table border=\"1\" class=\"dataframe\">\n",
              "  <thead>\n",
              "    <tr style=\"text-align: right;\">\n",
              "      <th></th>\n",
              "      <th>Month of Order Date</th>\n",
              "      <th>Category</th>\n",
              "      <th>Target</th>\n",
              "    </tr>\n",
              "  </thead>\n",
              "  <tbody>\n",
              "    <tr>\n",
              "      <th>0</th>\n",
              "      <td>18-Apr</td>\n",
              "      <td>Furniture</td>\n",
              "      <td>10400</td>\n",
              "    </tr>\n",
              "    <tr>\n",
              "      <th>1</th>\n",
              "      <td>18-May</td>\n",
              "      <td>Furniture</td>\n",
              "      <td>10500</td>\n",
              "    </tr>\n",
              "    <tr>\n",
              "      <th>2</th>\n",
              "      <td>18-Jun</td>\n",
              "      <td>Furniture</td>\n",
              "      <td>10600</td>\n",
              "    </tr>\n",
              "    <tr>\n",
              "      <th>3</th>\n",
              "      <td>18-Jul</td>\n",
              "      <td>Furniture</td>\n",
              "      <td>10800</td>\n",
              "    </tr>\n",
              "    <tr>\n",
              "      <th>4</th>\n",
              "      <td>18-Aug</td>\n",
              "      <td>Furniture</td>\n",
              "      <td>10900</td>\n",
              "    </tr>\n",
              "  </tbody>\n",
              "</table>\n",
              "</div>"
            ],
            "text/plain": [
              "  Month of Order Date   Category  Target\n",
              "0              18-Apr  Furniture   10400\n",
              "1              18-May  Furniture   10500\n",
              "2              18-Jun  Furniture   10600\n",
              "3              18-Jul  Furniture   10800\n",
              "4              18-Aug  Furniture   10900"
            ]
          },
          "execution_count": 18,
          "metadata": {},
          "output_type": "execute_result"
        }
      ],
      "source": [
        "print(\"Sales Target DataFrame\\n\")\n",
        "sales_target.head()"
      ]
    },
    {
      "cell_type": "code",
      "execution_count": null,
      "metadata": {},
      "outputs": [],
      "source": []
    }
  ],
  "metadata": {
    "colab": {
      "provenance": []
    },
    "gpuClass": "standard",
    "kernelspec": {
      "display_name": "Python 3.8.13 ('hackpions1')",
      "language": "python",
      "name": "python3"
    },
    "language_info": {
      "codemirror_mode": {
        "name": "ipython",
        "version": 3
      },
      "file_extension": ".py",
      "mimetype": "text/x-python",
      "name": "python",
      "nbconvert_exporter": "python",
      "pygments_lexer": "ipython3",
      "version": "3.8.13"
    },
    "vscode": {
      "interpreter": {
        "hash": "bc5085e34c836a34b7735af15844ae16e832b7d4d0ef8bbfc8cb1d957ec02888"
      }
    }
  },
  "nbformat": 4,
  "nbformat_minor": 0
}
