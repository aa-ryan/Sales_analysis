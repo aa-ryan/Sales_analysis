{
  "cells": [
    {
      "cell_type": "markdown",
      "metadata": {
        "id": "NAcQr98KvN31"
      },
      "source": [
        "# AB-inBev Assignment\n",
        "# E-Commerce\n",
        "\n",
        "[Github Link](https://github.com/aa-ryan/AbinBev_Assignment) for Assignment.\n",
        "\n",
        "\n",
        "\n",
        "\n"
      ]
    },
    {
      "cell_type": "markdown",
      "metadata": {},
      "source": [
        "#### Dependencies Installation."
      ]
    },
    {
      "cell_type": "code",
      "execution_count": 19,
      "metadata": {},
      "outputs": [
        {
          "name": "stdout",
          "output_type": "stream",
          "text": [
            "Requirement already satisfied: pandas in /Users/arx6363/opt/miniconda3/envs/hackpions1/lib/python3.8/site-packages (1.5.0)\n",
            "Requirement already satisfied: pytz>=2020.1 in /Users/arx6363/opt/miniconda3/envs/hackpions1/lib/python3.8/site-packages (from pandas) (2022.5)\n",
            "Requirement already satisfied: python-dateutil>=2.8.1 in /Users/arx6363/opt/miniconda3/envs/hackpions1/lib/python3.8/site-packages (from pandas) (2.8.2)\n",
            "Requirement already satisfied: numpy>=1.20.3 in /Users/arx6363/opt/miniconda3/envs/hackpions1/lib/python3.8/site-packages (from pandas) (1.23.4)\n",
            "Requirement already satisfied: six>=1.5 in /Users/arx6363/opt/miniconda3/envs/hackpions1/lib/python3.8/site-packages (from python-dateutil>=2.8.1->pandas) (1.16.0)\n",
            "Note: you may need to restart the kernel to use updated packages.\n",
            "Requirement already satisfied: plotly in /Users/arx6363/opt/miniconda3/envs/hackpions1/lib/python3.8/site-packages (5.11.0)\n",
            "Requirement already satisfied: tenacity>=6.2.0 in /Users/arx6363/opt/miniconda3/envs/hackpions1/lib/python3.8/site-packages (from plotly) (8.1.0)\n",
            "Note: you may need to restart the kernel to use updated packages.\n",
            "Requirement already satisfied: nbformat in /Users/arx6363/opt/miniconda3/envs/hackpions1/lib/python3.8/site-packages (5.7.0)\n",
            "Requirement already satisfied: fastjsonschema in /Users/arx6363/opt/miniconda3/envs/hackpions1/lib/python3.8/site-packages (from nbformat) (2.16.2)\n",
            "Requirement already satisfied: jupyter-core in /Users/arx6363/opt/miniconda3/envs/hackpions1/lib/python3.8/site-packages (from nbformat) (4.11.1)\n",
            "Requirement already satisfied: traitlets>=5.1 in /Users/arx6363/opt/miniconda3/envs/hackpions1/lib/python3.8/site-packages (from nbformat) (5.1.1)\n",
            "Requirement already satisfied: jsonschema>=2.6 in /Users/arx6363/opt/miniconda3/envs/hackpions1/lib/python3.8/site-packages (from nbformat) (4.16.0)\n",
            "Requirement already satisfied: pkgutil-resolve-name>=1.3.10 in /Users/arx6363/opt/miniconda3/envs/hackpions1/lib/python3.8/site-packages (from jsonschema>=2.6->nbformat) (1.3.10)\n",
            "Requirement already satisfied: pyrsistent!=0.17.0,!=0.17.1,!=0.17.2,>=0.14.0 in /Users/arx6363/opt/miniconda3/envs/hackpions1/lib/python3.8/site-packages (from jsonschema>=2.6->nbformat) (0.18.1)\n",
            "Requirement already satisfied: importlib-resources>=1.4.0 in /Users/arx6363/opt/miniconda3/envs/hackpions1/lib/python3.8/site-packages (from jsonschema>=2.6->nbformat) (5.10.0)\n",
            "Requirement already satisfied: attrs>=17.4.0 in /Users/arx6363/opt/miniconda3/envs/hackpions1/lib/python3.8/site-packages (from jsonschema>=2.6->nbformat) (22.1.0)\n",
            "Requirement already satisfied: zipp>=3.1.0 in /Users/arx6363/opt/miniconda3/envs/hackpions1/lib/python3.8/site-packages (from importlib-resources>=1.4.0->jsonschema>=2.6->nbformat) (3.9.0)\n",
            "Note: you may need to restart the kernel to use updated packages.\n"
          ]
        }
      ],
      "source": [
        "%pip install pandas\n",
        "%pip install plotly\n",
        "%pip install nbformat"
      ]
    },
    {
      "cell_type": "code",
      "execution_count": 39,
      "metadata": {},
      "outputs": [],
      "source": [
        "# Ignoring pandas FutureWarning\n",
        "import warnings\n",
        "warnings.simplefilter(action='ignore', category=FutureWarning)"
      ]
    },
    {
      "cell_type": "code",
      "execution_count": 40,
      "metadata": {
        "id": "7LUApAvOSXHZ"
      },
      "outputs": [],
      "source": [
        "import pandas as pd\n",
        "import numpy as np\n",
        "import plotly.express as px\n",
        "import plotly.graph_objects as go\n",
        "import calendar"
      ]
    },
    {
      "cell_type": "markdown",
      "metadata": {
        "id": "Sd9GRfC0ay2g"
      },
      "source": [
        "#### Convert CSV to Pandas Dataframe"
      ]
    },
    {
      "cell_type": "code",
      "execution_count": 41,
      "metadata": {
        "id": "-BKil7fGSiP1"
      },
      "outputs": [],
      "source": [
        "list_of_orders = pd.read_csv(\"data/list_of_orders.csv\")\n",
        "order_details = pd.read_csv(\"data/order_details.csv\")\n",
        "sales_target = pd.read_csv(\"data/sales_target.csv\")"
      ]
    },
    {
      "cell_type": "markdown",
      "metadata": {
        "id": "Uk7Ml8rHZzbg"
      },
      "source": [
        "## Pre-processing and Data Cleansing\n",
        "* [x] Check Shape of Data\n",
        "* [x] Check NA values\n",
        "* [x] Similar Date Format\n",
        "* [x] Check Data *info*"
      ]
    },
    {
      "cell_type": "markdown",
      "metadata": {
        "id": "Zs7T2wdPcHBR"
      },
      "source": [
        "#### Shape of Data"
      ]
    },
    {
      "cell_type": "code",
      "execution_count": 42,
      "metadata": {
        "colab": {
          "base_uri": "https://localhost:8080/"
        },
        "id": "fwkTPXNCZyR_",
        "outputId": "d4b31719-b809-46a8-d360-3cda506485e1"
      },
      "outputs": [
        {
          "name": "stdout",
          "output_type": "stream",
          "text": [
            "Dimensions of List of Order ->  (500, 5)\n",
            "Dimensions of Order Detail ->  (1500, 6)\n",
            "Dimensions of Sales Target ->  (36, 3)\n"
          ]
        }
      ],
      "source": [
        "print(\"Dimensions of List of Order -> \", list_of_orders.shape)\n",
        "print(\"Dimensions of Order Detail -> \", order_details.shape)\n",
        "print(\"Dimensions of Sales Target -> \", sales_target.shape)"
      ]
    },
    {
      "cell_type": "markdown",
      "metadata": {
        "id": "ldGz_fVfcKRo"
      },
      "source": [
        "#### Check NA values\n",
        "* None Found"
      ]
    },
    {
      "cell_type": "code",
      "execution_count": 43,
      "metadata": {
        "colab": {
          "base_uri": "https://localhost:8080/"
        },
        "id": "QF-5AVeucNhI",
        "outputId": "f50b6382-0086-4818-db98-91d26443cbc9"
      },
      "outputs": [
        {
          "name": "stdout",
          "output_type": "stream",
          "text": [
            "List of Orders DataFrame\n",
            "\n",
            "Order ID        0\n",
            "Order Date      0\n",
            "CustomerName    0\n",
            "State           0\n",
            "City            0\n",
            "dtype: int64\n",
            "\n",
            "Order Details DataFrame\n",
            "\n",
            "Order ID        0\n",
            "Amount          0\n",
            "Profit          0\n",
            "Quantity        0\n",
            "Category        0\n",
            "Sub-Category    0\n",
            "dtype: int64\n",
            "\n",
            "Sales Target DataFrame\n",
            "\n",
            "Month of Order Date    0\n",
            "Category               0\n",
            "Target                 0\n",
            "dtype: int64\n",
            "\n"
          ]
        }
      ],
      "source": [
        "print(\"List of Orders DataFrame\\n\")\n",
        "print(list_of_orders.isnull().sum(), end=\"\\n\\n\")\n",
        "print(\"Order Details DataFrame\\n\")\n",
        "print(order_details.isnull().sum(), end='\\n\\n')\n",
        "print(\"Sales Target DataFrame\\n\")\n",
        "print(sales_target.isnull().sum(), end='\\n\\n')"
      ]
    },
    {
      "cell_type": "markdown",
      "metadata": {
        "id": "ZzC2OTsUXXzg"
      },
      "source": [
        "#### Same format of Date\n",
        "* YYYY-MM-DD"
      ]
    },
    {
      "cell_type": "code",
      "execution_count": 44,
      "metadata": {
        "id": "Pr8rkEpwTnxH"
      },
      "outputs": [],
      "source": [
        "list_of_orders['Order Date'] =  pd.to_datetime(list_of_orders['Order Date'], dayfirst=True)"
      ]
    },
    {
      "cell_type": "markdown",
      "metadata": {
        "id": "6axrqkazcyY9"
      },
      "source": [
        "#### Check Data info\n",
        "* Focus on Dtype of Date"
      ]
    },
    {
      "cell_type": "code",
      "execution_count": 45,
      "metadata": {
        "colab": {
          "base_uri": "https://localhost:8080/"
        },
        "id": "XUIOb0FybVZn",
        "outputId": "a99efe28-b07d-43c1-d5d8-3488575eafe9"
      },
      "outputs": [
        {
          "name": "stdout",
          "output_type": "stream",
          "text": [
            "List of Orders DataFrame\n",
            "\n",
            "<class 'pandas.core.frame.DataFrame'>\n",
            "RangeIndex: 500 entries, 0 to 499\n",
            "Data columns (total 5 columns):\n",
            " #   Column        Non-Null Count  Dtype         \n",
            "---  ------        --------------  -----         \n",
            " 0   Order ID      500 non-null    object        \n",
            " 1   Order Date    500 non-null    datetime64[ns]\n",
            " 2   CustomerName  500 non-null    object        \n",
            " 3   State         500 non-null    object        \n",
            " 4   City          500 non-null    object        \n",
            "dtypes: datetime64[ns](1), object(4)\n",
            "memory usage: 19.7+ KB\n",
            "None\n",
            "\n",
            "Order Details DataFrame\n",
            "\n",
            "<class 'pandas.core.frame.DataFrame'>\n",
            "RangeIndex: 1500 entries, 0 to 1499\n",
            "Data columns (total 6 columns):\n",
            " #   Column        Non-Null Count  Dtype \n",
            "---  ------        --------------  ----- \n",
            " 0   Order ID      1500 non-null   object\n",
            " 1   Amount        1500 non-null   int64 \n",
            " 2   Profit        1500 non-null   int64 \n",
            " 3   Quantity      1500 non-null   int64 \n",
            " 4   Category      1500 non-null   object\n",
            " 5   Sub-Category  1500 non-null   object\n",
            "dtypes: int64(3), object(3)\n",
            "memory usage: 70.4+ KB\n",
            "None\n",
            "\n",
            "Sales Target DataFrame\n",
            "\n",
            "<class 'pandas.core.frame.DataFrame'>\n",
            "RangeIndex: 36 entries, 0 to 35\n",
            "Data columns (total 3 columns):\n",
            " #   Column               Non-Null Count  Dtype \n",
            "---  ------               --------------  ----- \n",
            " 0   Month of Order Date  36 non-null     object\n",
            " 1   Category             36 non-null     object\n",
            " 2   Target               36 non-null     int64 \n",
            "dtypes: int64(1), object(2)\n",
            "memory usage: 992.0+ bytes\n",
            "None\n",
            "\n"
          ]
        }
      ],
      "source": [
        "print(\"List of Orders DataFrame\\n\")\n",
        "print(list_of_orders.info(), end=\"\\n\\n\")\n",
        "print(\"Order Details DataFrame\\n\")\n",
        "print(order_details.info(), end='\\n\\n')\n",
        "print(\"Sales Target DataFrame\\n\")\n",
        "print(sales_target.info(), end='\\n\\n')"
      ]
    },
    {
      "cell_type": "markdown",
      "metadata": {
        "id": "AzXkI-3De2jz"
      },
      "source": [
        "## Dataset Overview"
      ]
    },
    {
      "cell_type": "code",
      "execution_count": 46,
      "metadata": {
        "colab": {
          "base_uri": "https://localhost:8080/",
          "height": 221
        },
        "id": "Hyee7ApCbJgY",
        "outputId": "d14f26e9-b87c-4eb4-8d93-22caa48bfba3"
      },
      "outputs": [
        {
          "name": "stdout",
          "output_type": "stream",
          "text": [
            "List of Orders DataFrame\n",
            "\n"
          ]
        },
        {
          "data": {
            "text/html": [
              "<div>\n",
              "<style scoped>\n",
              "    .dataframe tbody tr th:only-of-type {\n",
              "        vertical-align: middle;\n",
              "    }\n",
              "\n",
              "    .dataframe tbody tr th {\n",
              "        vertical-align: top;\n",
              "    }\n",
              "\n",
              "    .dataframe thead th {\n",
              "        text-align: right;\n",
              "    }\n",
              "</style>\n",
              "<table border=\"1\" class=\"dataframe\">\n",
              "  <thead>\n",
              "    <tr style=\"text-align: right;\">\n",
              "      <th></th>\n",
              "      <th>Order ID</th>\n",
              "      <th>Order Date</th>\n",
              "      <th>CustomerName</th>\n",
              "      <th>State</th>\n",
              "      <th>City</th>\n",
              "    </tr>\n",
              "  </thead>\n",
              "  <tbody>\n",
              "    <tr>\n",
              "      <th>0</th>\n",
              "      <td>B-25601</td>\n",
              "      <td>2018-01-04</td>\n",
              "      <td>Bharat</td>\n",
              "      <td>Gujarat</td>\n",
              "      <td>Ahmedabad</td>\n",
              "    </tr>\n",
              "    <tr>\n",
              "      <th>1</th>\n",
              "      <td>B-25602</td>\n",
              "      <td>2018-01-04</td>\n",
              "      <td>Pearl</td>\n",
              "      <td>Maharashtra</td>\n",
              "      <td>Pune</td>\n",
              "    </tr>\n",
              "    <tr>\n",
              "      <th>2</th>\n",
              "      <td>B-25603</td>\n",
              "      <td>2018-03-04</td>\n",
              "      <td>Jahan</td>\n",
              "      <td>Madhya Pradesh</td>\n",
              "      <td>Bhopal</td>\n",
              "    </tr>\n",
              "    <tr>\n",
              "      <th>3</th>\n",
              "      <td>B-25604</td>\n",
              "      <td>2018-03-04</td>\n",
              "      <td>Divsha</td>\n",
              "      <td>Rajasthan</td>\n",
              "      <td>Jaipur</td>\n",
              "    </tr>\n",
              "    <tr>\n",
              "      <th>4</th>\n",
              "      <td>B-25605</td>\n",
              "      <td>2018-05-04</td>\n",
              "      <td>Kasheen</td>\n",
              "      <td>West Bengal</td>\n",
              "      <td>Kolkata</td>\n",
              "    </tr>\n",
              "  </tbody>\n",
              "</table>\n",
              "</div>"
            ],
            "text/plain": [
              "  Order ID Order Date CustomerName           State       City\n",
              "0  B-25601 2018-01-04       Bharat         Gujarat  Ahmedabad\n",
              "1  B-25602 2018-01-04        Pearl     Maharashtra       Pune\n",
              "2  B-25603 2018-03-04        Jahan  Madhya Pradesh     Bhopal\n",
              "3  B-25604 2018-03-04       Divsha       Rajasthan     Jaipur\n",
              "4  B-25605 2018-05-04      Kasheen     West Bengal    Kolkata"
            ]
          },
          "execution_count": 46,
          "metadata": {},
          "output_type": "execute_result"
        }
      ],
      "source": [
        "print(\"List of Orders DataFrame\\n\")\n",
        "list_of_orders.head()"
      ]
    },
    {
      "cell_type": "code",
      "execution_count": 47,
      "metadata": {
        "id": "OfEtsIAAfFOo"
      },
      "outputs": [
        {
          "name": "stdout",
          "output_type": "stream",
          "text": [
            "Order Details DataFrame\n",
            "\n"
          ]
        },
        {
          "data": {
            "text/html": [
              "<div>\n",
              "<style scoped>\n",
              "    .dataframe tbody tr th:only-of-type {\n",
              "        vertical-align: middle;\n",
              "    }\n",
              "\n",
              "    .dataframe tbody tr th {\n",
              "        vertical-align: top;\n",
              "    }\n",
              "\n",
              "    .dataframe thead th {\n",
              "        text-align: right;\n",
              "    }\n",
              "</style>\n",
              "<table border=\"1\" class=\"dataframe\">\n",
              "  <thead>\n",
              "    <tr style=\"text-align: right;\">\n",
              "      <th></th>\n",
              "      <th>Order ID</th>\n",
              "      <th>Amount</th>\n",
              "      <th>Profit</th>\n",
              "      <th>Quantity</th>\n",
              "      <th>Category</th>\n",
              "      <th>Sub-Category</th>\n",
              "    </tr>\n",
              "  </thead>\n",
              "  <tbody>\n",
              "    <tr>\n",
              "      <th>0</th>\n",
              "      <td>B-25601</td>\n",
              "      <td>1275</td>\n",
              "      <td>-1148</td>\n",
              "      <td>7</td>\n",
              "      <td>Furniture</td>\n",
              "      <td>Bookcases</td>\n",
              "    </tr>\n",
              "    <tr>\n",
              "      <th>1</th>\n",
              "      <td>B-25601</td>\n",
              "      <td>66</td>\n",
              "      <td>-12</td>\n",
              "      <td>5</td>\n",
              "      <td>Clothing</td>\n",
              "      <td>Stole</td>\n",
              "    </tr>\n",
              "    <tr>\n",
              "      <th>2</th>\n",
              "      <td>B-25601</td>\n",
              "      <td>8</td>\n",
              "      <td>-2</td>\n",
              "      <td>3</td>\n",
              "      <td>Clothing</td>\n",
              "      <td>Hankerchief</td>\n",
              "    </tr>\n",
              "    <tr>\n",
              "      <th>3</th>\n",
              "      <td>B-25601</td>\n",
              "      <td>80</td>\n",
              "      <td>-56</td>\n",
              "      <td>4</td>\n",
              "      <td>Electronics</td>\n",
              "      <td>Electronic Games</td>\n",
              "    </tr>\n",
              "    <tr>\n",
              "      <th>4</th>\n",
              "      <td>B-25602</td>\n",
              "      <td>168</td>\n",
              "      <td>-111</td>\n",
              "      <td>2</td>\n",
              "      <td>Electronics</td>\n",
              "      <td>Phones</td>\n",
              "    </tr>\n",
              "  </tbody>\n",
              "</table>\n",
              "</div>"
            ],
            "text/plain": [
              "  Order ID  Amount  Profit  Quantity     Category      Sub-Category\n",
              "0  B-25601    1275   -1148         7    Furniture         Bookcases\n",
              "1  B-25601      66     -12         5     Clothing             Stole\n",
              "2  B-25601       8      -2         3     Clothing       Hankerchief\n",
              "3  B-25601      80     -56         4  Electronics  Electronic Games\n",
              "4  B-25602     168    -111         2  Electronics            Phones"
            ]
          },
          "execution_count": 47,
          "metadata": {},
          "output_type": "execute_result"
        }
      ],
      "source": [
        "print(\"Order Details DataFrame\\n\")\n",
        "order_details.head()"
      ]
    },
    {
      "cell_type": "code",
      "execution_count": 48,
      "metadata": {},
      "outputs": [
        {
          "name": "stdout",
          "output_type": "stream",
          "text": [
            "Sales Target DataFrame\n",
            "\n"
          ]
        },
        {
          "data": {
            "text/html": [
              "<div>\n",
              "<style scoped>\n",
              "    .dataframe tbody tr th:only-of-type {\n",
              "        vertical-align: middle;\n",
              "    }\n",
              "\n",
              "    .dataframe tbody tr th {\n",
              "        vertical-align: top;\n",
              "    }\n",
              "\n",
              "    .dataframe thead th {\n",
              "        text-align: right;\n",
              "    }\n",
              "</style>\n",
              "<table border=\"1\" class=\"dataframe\">\n",
              "  <thead>\n",
              "    <tr style=\"text-align: right;\">\n",
              "      <th></th>\n",
              "      <th>Month of Order Date</th>\n",
              "      <th>Category</th>\n",
              "      <th>Target</th>\n",
              "    </tr>\n",
              "  </thead>\n",
              "  <tbody>\n",
              "    <tr>\n",
              "      <th>0</th>\n",
              "      <td>18-Apr</td>\n",
              "      <td>Furniture</td>\n",
              "      <td>10400</td>\n",
              "    </tr>\n",
              "    <tr>\n",
              "      <th>1</th>\n",
              "      <td>18-May</td>\n",
              "      <td>Furniture</td>\n",
              "      <td>10500</td>\n",
              "    </tr>\n",
              "    <tr>\n",
              "      <th>2</th>\n",
              "      <td>18-Jun</td>\n",
              "      <td>Furniture</td>\n",
              "      <td>10600</td>\n",
              "    </tr>\n",
              "    <tr>\n",
              "      <th>3</th>\n",
              "      <td>18-Jul</td>\n",
              "      <td>Furniture</td>\n",
              "      <td>10800</td>\n",
              "    </tr>\n",
              "    <tr>\n",
              "      <th>4</th>\n",
              "      <td>18-Aug</td>\n",
              "      <td>Furniture</td>\n",
              "      <td>10900</td>\n",
              "    </tr>\n",
              "  </tbody>\n",
              "</table>\n",
              "</div>"
            ],
            "text/plain": [
              "  Month of Order Date   Category  Target\n",
              "0              18-Apr  Furniture   10400\n",
              "1              18-May  Furniture   10500\n",
              "2              18-Jun  Furniture   10600\n",
              "3              18-Jul  Furniture   10800\n",
              "4              18-Aug  Furniture   10900"
            ]
          },
          "execution_count": 48,
          "metadata": {},
          "output_type": "execute_result"
        }
      ],
      "source": [
        "print(\"Sales Target DataFrame\\n\")\n",
        "sales_target.head()"
      ]
    },
    {
      "cell_type": "markdown",
      "metadata": {},
      "source": [
        "## Data Visualization"
      ]
    },
    {
      "cell_type": "markdown",
      "metadata": {},
      "source": [
        "#### Analyzing Sales\n",
        "* Changing the Category and Sub-Category variable to categorical data type in list_of_order df and sales_target df."
      ]
    },
    {
      "cell_type": "code",
      "execution_count": 49,
      "metadata": {},
      "outputs": [
        {
          "name": "stdout",
          "output_type": "stream",
          "text": [
            "<class 'pandas.core.frame.DataFrame'>\n",
            "RangeIndex: 1500 entries, 0 to 1499\n",
            "Data columns (total 6 columns):\n",
            " #   Column        Non-Null Count  Dtype   \n",
            "---  ------        --------------  -----   \n",
            " 0   Order ID      1500 non-null   object  \n",
            " 1   Amount        1500 non-null   int64   \n",
            " 2   Profit        1500 non-null   int64   \n",
            " 3   Quantity      1500 non-null   int64   \n",
            " 4   Category      1500 non-null   category\n",
            " 5   Sub-Category  1500 non-null   category\n",
            "dtypes: category(2), int64(3), object(1)\n",
            "memory usage: 50.7+ KB\n",
            "<class 'pandas.core.frame.DataFrame'>\n",
            "RangeIndex: 36 entries, 0 to 35\n",
            "Data columns (total 3 columns):\n",
            " #   Column               Non-Null Count  Dtype   \n",
            "---  ------               --------------  -----   \n",
            " 0   Month of Order Date  36 non-null     object  \n",
            " 1   Category             36 non-null     category\n",
            " 2   Target               36 non-null     int64   \n",
            "dtypes: category(1), int64(1), object(1)\n",
            "memory usage: 872.0+ bytes\n"
          ]
        }
      ],
      "source": [
        "order_details['Category'] = order_details['Category'].astype('category')\n",
        "order_details['Sub-Category'] = order_details['Sub-Category'].astype('category')\n",
        "\n",
        "sales_target['Category'] = sales_target['Category'].astype('category')\n",
        "order_details.info()\n",
        "sales_target.info()"
      ]
    },
    {
      "cell_type": "markdown",
      "metadata": {},
      "source": [
        "#### Making a dataframe having Amount, Profit, Quantity for different orders, joining it with list_of_order dataframe by taking OrderID as Primary Key."
      ]
    },
    {
      "cell_type": "code",
      "execution_count": 50,
      "metadata": {},
      "outputs": [
        {
          "data": {
            "text/html": [
              "<div>\n",
              "<style scoped>\n",
              "    .dataframe tbody tr th:only-of-type {\n",
              "        vertical-align: middle;\n",
              "    }\n",
              "\n",
              "    .dataframe tbody tr th {\n",
              "        vertical-align: top;\n",
              "    }\n",
              "\n",
              "    .dataframe thead th {\n",
              "        text-align: right;\n",
              "    }\n",
              "</style>\n",
              "<table border=\"1\" class=\"dataframe\">\n",
              "  <thead>\n",
              "    <tr style=\"text-align: right;\">\n",
              "      <th></th>\n",
              "      <th>Order ID</th>\n",
              "      <th>Amount</th>\n",
              "      <th>Profit</th>\n",
              "      <th>Quantity</th>\n",
              "    </tr>\n",
              "  </thead>\n",
              "  <tbody>\n",
              "    <tr>\n",
              "      <th>0</th>\n",
              "      <td>B-25601</td>\n",
              "      <td>1429</td>\n",
              "      <td>-1218</td>\n",
              "      <td>19</td>\n",
              "    </tr>\n",
              "    <tr>\n",
              "      <th>1</th>\n",
              "      <td>B-25602</td>\n",
              "      <td>3889</td>\n",
              "      <td>975</td>\n",
              "      <td>22</td>\n",
              "    </tr>\n",
              "    <tr>\n",
              "      <th>2</th>\n",
              "      <td>B-25603</td>\n",
              "      <td>2025</td>\n",
              "      <td>-180</td>\n",
              "      <td>25</td>\n",
              "    </tr>\n",
              "    <tr>\n",
              "      <th>3</th>\n",
              "      <td>B-25604</td>\n",
              "      <td>222</td>\n",
              "      <td>22</td>\n",
              "      <td>11</td>\n",
              "    </tr>\n",
              "    <tr>\n",
              "      <th>4</th>\n",
              "      <td>B-25605</td>\n",
              "      <td>75</td>\n",
              "      <td>0</td>\n",
              "      <td>7</td>\n",
              "    </tr>\n",
              "  </tbody>\n",
              "</table>\n",
              "</div>"
            ],
            "text/plain": [
              "  Order ID  Amount  Profit  Quantity\n",
              "0  B-25601    1429   -1218        19\n",
              "1  B-25602    3889     975        22\n",
              "2  B-25603    2025    -180        25\n",
              "3  B-25604     222      22        11\n",
              "4  B-25605      75       0         7"
            ]
          },
          "execution_count": 50,
          "metadata": {},
          "output_type": "execute_result"
        }
      ],
      "source": [
        "profits = order_details.groupby('Order ID',).sum().reset_index()\n",
        "profits.head()"
      ]
    },
    {
      "cell_type": "code",
      "execution_count": 51,
      "metadata": {},
      "outputs": [
        {
          "data": {
            "text/html": [
              "<div>\n",
              "<style scoped>\n",
              "    .dataframe tbody tr th:only-of-type {\n",
              "        vertical-align: middle;\n",
              "    }\n",
              "\n",
              "    .dataframe tbody tr th {\n",
              "        vertical-align: top;\n",
              "    }\n",
              "\n",
              "    .dataframe thead th {\n",
              "        text-align: right;\n",
              "    }\n",
              "</style>\n",
              "<table border=\"1\" class=\"dataframe\">\n",
              "  <thead>\n",
              "    <tr style=\"text-align: right;\">\n",
              "      <th></th>\n",
              "      <th>Order ID</th>\n",
              "      <th>Order Date</th>\n",
              "      <th>CustomerName</th>\n",
              "      <th>State</th>\n",
              "      <th>City</th>\n",
              "      <th>Amount</th>\n",
              "      <th>Profit</th>\n",
              "      <th>Quantity</th>\n",
              "    </tr>\n",
              "  </thead>\n",
              "  <tbody>\n",
              "    <tr>\n",
              "      <th>0</th>\n",
              "      <td>B-25601</td>\n",
              "      <td>2018-01-04</td>\n",
              "      <td>Bharat</td>\n",
              "      <td>Gujarat</td>\n",
              "      <td>Ahmedabad</td>\n",
              "      <td>1429</td>\n",
              "      <td>-1218</td>\n",
              "      <td>19</td>\n",
              "    </tr>\n",
              "    <tr>\n",
              "      <th>1</th>\n",
              "      <td>B-25602</td>\n",
              "      <td>2018-01-04</td>\n",
              "      <td>Pearl</td>\n",
              "      <td>Maharashtra</td>\n",
              "      <td>Pune</td>\n",
              "      <td>3889</td>\n",
              "      <td>975</td>\n",
              "      <td>22</td>\n",
              "    </tr>\n",
              "    <tr>\n",
              "      <th>2</th>\n",
              "      <td>B-25603</td>\n",
              "      <td>2018-03-04</td>\n",
              "      <td>Jahan</td>\n",
              "      <td>Madhya Pradesh</td>\n",
              "      <td>Bhopal</td>\n",
              "      <td>2025</td>\n",
              "      <td>-180</td>\n",
              "      <td>25</td>\n",
              "    </tr>\n",
              "    <tr>\n",
              "      <th>3</th>\n",
              "      <td>B-25604</td>\n",
              "      <td>2018-03-04</td>\n",
              "      <td>Divsha</td>\n",
              "      <td>Rajasthan</td>\n",
              "      <td>Jaipur</td>\n",
              "      <td>222</td>\n",
              "      <td>22</td>\n",
              "      <td>11</td>\n",
              "    </tr>\n",
              "    <tr>\n",
              "      <th>4</th>\n",
              "      <td>B-25605</td>\n",
              "      <td>2018-05-04</td>\n",
              "      <td>Kasheen</td>\n",
              "      <td>West Bengal</td>\n",
              "      <td>Kolkata</td>\n",
              "      <td>75</td>\n",
              "      <td>0</td>\n",
              "      <td>7</td>\n",
              "    </tr>\n",
              "  </tbody>\n",
              "</table>\n",
              "</div>"
            ],
            "text/plain": [
              "  Order ID Order Date CustomerName           State       City  Amount  Profit  \\\n",
              "0  B-25601 2018-01-04       Bharat         Gujarat  Ahmedabad    1429   -1218   \n",
              "1  B-25602 2018-01-04        Pearl     Maharashtra       Pune    3889     975   \n",
              "2  B-25603 2018-03-04        Jahan  Madhya Pradesh     Bhopal    2025    -180   \n",
              "3  B-25604 2018-03-04       Divsha       Rajasthan     Jaipur     222      22   \n",
              "4  B-25605 2018-05-04      Kasheen     West Bengal    Kolkata      75       0   \n",
              "\n",
              "   Quantity  \n",
              "0        19  \n",
              "1        22  \n",
              "2        25  \n",
              "3        11  \n",
              "4         7  "
            ]
          },
          "execution_count": 51,
          "metadata": {},
          "output_type": "execute_result"
        }
      ],
      "source": [
        "merged_df = pd.merge(list_of_orders, profits, on='Order ID')\n",
        "merged_df.head()"
      ]
    },
    {
      "cell_type": "markdown",
      "metadata": {},
      "source": [
        "#### Monthly Profit Analysis"
      ]
    },
    {
      "cell_type": "code",
      "execution_count": 55,
      "metadata": {},
      "outputs": [
        {
          "data": {
            "text/html": [
              "<div>\n",
              "<style scoped>\n",
              "    .dataframe tbody tr th:only-of-type {\n",
              "        vertical-align: middle;\n",
              "    }\n",
              "\n",
              "    .dataframe tbody tr th {\n",
              "        vertical-align: top;\n",
              "    }\n",
              "\n",
              "    .dataframe thead th {\n",
              "        text-align: right;\n",
              "    }\n",
              "</style>\n",
              "<table border=\"1\" class=\"dataframe\">\n",
              "  <thead>\n",
              "    <tr style=\"text-align: right;\">\n",
              "      <th></th>\n",
              "      <th></th>\n",
              "      <th></th>\n",
              "      <th>Amount</th>\n",
              "      <th>Profit</th>\n",
              "      <th>Quantity</th>\n",
              "    </tr>\n",
              "    <tr>\n",
              "      <th>Year</th>\n",
              "      <th>Month</th>\n",
              "      <th>Month_Number</th>\n",
              "      <th></th>\n",
              "      <th></th>\n",
              "      <th></th>\n",
              "    </tr>\n",
              "  </thead>\n",
              "  <tbody>\n",
              "    <tr>\n",
              "      <th rowspan=\"12\" valign=\"top\">2018</th>\n",
              "      <th>Jan</th>\n",
              "      <th>1</th>\n",
              "      <td>18035</td>\n",
              "      <td>-3296</td>\n",
              "      <td>203</td>\n",
              "    </tr>\n",
              "    <tr>\n",
              "      <th>Feb</th>\n",
              "      <th>2</th>\n",
              "      <td>6566</td>\n",
              "      <td>685</td>\n",
              "      <td>58</td>\n",
              "    </tr>\n",
              "    <tr>\n",
              "      <th>Mar</th>\n",
              "      <th>3</th>\n",
              "      <td>7434</td>\n",
              "      <td>669</td>\n",
              "      <td>144</td>\n",
              "    </tr>\n",
              "    <tr>\n",
              "      <th>Apr</th>\n",
              "      <th>4</th>\n",
              "      <td>26170</td>\n",
              "      <td>-1043</td>\n",
              "      <td>337</td>\n",
              "    </tr>\n",
              "    <tr>\n",
              "      <th>May</th>\n",
              "      <th>5</th>\n",
              "      <td>20422</td>\n",
              "      <td>-891</td>\n",
              "      <td>306</td>\n",
              "    </tr>\n",
              "    <tr>\n",
              "      <th>Jun</th>\n",
              "      <th>6</th>\n",
              "      <td>17406</td>\n",
              "      <td>-3759</td>\n",
              "      <td>353</td>\n",
              "    </tr>\n",
              "    <tr>\n",
              "      <th>Jul</th>\n",
              "      <th>7</th>\n",
              "      <td>15682</td>\n",
              "      <td>-2065</td>\n",
              "      <td>239</td>\n",
              "    </tr>\n",
              "    <tr>\n",
              "      <th>Aug</th>\n",
              "      <th>8</th>\n",
              "      <td>45269</td>\n",
              "      <td>-1059</td>\n",
              "      <td>601</td>\n",
              "    </tr>\n",
              "    <tr>\n",
              "      <th>Sep</th>\n",
              "      <th>9</th>\n",
              "      <td>20210</td>\n",
              "      <td>-3509</td>\n",
              "      <td>310</td>\n",
              "    </tr>\n",
              "    <tr>\n",
              "      <th>Oct</th>\n",
              "      <th>10</th>\n",
              "      <td>32758</td>\n",
              "      <td>5979</td>\n",
              "      <td>414</td>\n",
              "    </tr>\n",
              "    <tr>\n",
              "      <th>Nov</th>\n",
              "      <th>11</th>\n",
              "      <td>38858</td>\n",
              "      <td>4955</td>\n",
              "      <td>433</td>\n",
              "    </tr>\n",
              "    <tr>\n",
              "      <th>Dec</th>\n",
              "      <th>12</th>\n",
              "      <td>23892</td>\n",
              "      <td>1535</td>\n",
              "      <td>209</td>\n",
              "    </tr>\n",
              "    <tr>\n",
              "      <th rowspan=\"12\" valign=\"top\">2019</th>\n",
              "      <th>Jan</th>\n",
              "      <th>1</th>\n",
              "      <td>50448</td>\n",
              "      <td>8655</td>\n",
              "      <td>640</td>\n",
              "    </tr>\n",
              "    <tr>\n",
              "      <th>Feb</th>\n",
              "      <th>2</th>\n",
              "      <td>15894</td>\n",
              "      <td>2291</td>\n",
              "      <td>253</td>\n",
              "    </tr>\n",
              "    <tr>\n",
              "      <th>Mar</th>\n",
              "      <th>3</th>\n",
              "      <td>39700</td>\n",
              "      <td>6633</td>\n",
              "      <td>485</td>\n",
              "    </tr>\n",
              "    <tr>\n",
              "      <th>Apr</th>\n",
              "      <th>4</th>\n",
              "      <td>11079</td>\n",
              "      <td>1295</td>\n",
              "      <td>106</td>\n",
              "    </tr>\n",
              "    <tr>\n",
              "      <th>May</th>\n",
              "      <th>5</th>\n",
              "      <td>4390</td>\n",
              "      <td>943</td>\n",
              "      <td>63</td>\n",
              "    </tr>\n",
              "    <tr>\n",
              "      <th>Jun</th>\n",
              "      <th>6</th>\n",
              "      <td>3392</td>\n",
              "      <td>700</td>\n",
              "      <td>52</td>\n",
              "    </tr>\n",
              "    <tr>\n",
              "      <th>Jul</th>\n",
              "      <th>7</th>\n",
              "      <td>5116</td>\n",
              "      <td>975</td>\n",
              "      <td>67</td>\n",
              "    </tr>\n",
              "    <tr>\n",
              "      <th>Aug</th>\n",
              "      <th>8</th>\n",
              "      <td>6557</td>\n",
              "      <td>594</td>\n",
              "      <td>83</td>\n",
              "    </tr>\n",
              "    <tr>\n",
              "      <th>Sep</th>\n",
              "      <th>9</th>\n",
              "      <td>5583</td>\n",
              "      <td>1597</td>\n",
              "      <td>70</td>\n",
              "    </tr>\n",
              "    <tr>\n",
              "      <th>Oct</th>\n",
              "      <th>10</th>\n",
              "      <td>14147</td>\n",
              "      <td>1892</td>\n",
              "      <td>149</td>\n",
              "    </tr>\n",
              "    <tr>\n",
              "      <th>Nov</th>\n",
              "      <th>11</th>\n",
              "      <td>2235</td>\n",
              "      <td>122</td>\n",
              "      <td>35</td>\n",
              "    </tr>\n",
              "    <tr>\n",
              "      <th>Dec</th>\n",
              "      <th>12</th>\n",
              "      <td>259</td>\n",
              "      <td>57</td>\n",
              "      <td>5</td>\n",
              "    </tr>\n",
              "  </tbody>\n",
              "</table>\n",
              "</div>"
            ],
            "text/plain": [
              "                         Amount  Profit  Quantity\n",
              "Year Month Month_Number                          \n",
              "2018 Jan   1              18035   -3296       203\n",
              "     Feb   2               6566     685        58\n",
              "     Mar   3               7434     669       144\n",
              "     Apr   4              26170   -1043       337\n",
              "     May   5              20422    -891       306\n",
              "     Jun   6              17406   -3759       353\n",
              "     Jul   7              15682   -2065       239\n",
              "     Aug   8              45269   -1059       601\n",
              "     Sep   9              20210   -3509       310\n",
              "     Oct   10             32758    5979       414\n",
              "     Nov   11             38858    4955       433\n",
              "     Dec   12             23892    1535       209\n",
              "2019 Jan   1              50448    8655       640\n",
              "     Feb   2              15894    2291       253\n",
              "     Mar   3              39700    6633       485\n",
              "     Apr   4              11079    1295       106\n",
              "     May   5               4390     943        63\n",
              "     Jun   6               3392     700        52\n",
              "     Jul   7               5116     975        67\n",
              "     Aug   8               6557     594        83\n",
              "     Sep   9               5583    1597        70\n",
              "     Oct   10             14147    1892       149\n",
              "     Nov   11              2235     122        35\n",
              "     Dec   12               259      57         5"
            ]
          },
          "execution_count": 55,
          "metadata": {},
          "output_type": "execute_result"
        }
      ],
      "source": [
        "merged_df['Year'] = pd.DatetimeIndex(merged_df['Order Date']).year\n",
        "merged_df['Month_Number'] = pd.DatetimeIndex(merged_df['Order Date']).month\n",
        "merged_df['Month'] = merged_df['Month_Number'].apply(lambda x: calendar.month_abbr[x])\n",
        "\n",
        "year_wiseDF = merged_df.groupby(['Year', 'Month','Month_Number']).sum().sort_values(['Year','Month_Number'])\n",
        "year_wiseDF"
      ]
    },
    {
      "cell_type": "code",
      "execution_count": 56,
      "metadata": {},
      "outputs": [
        {
          "data": {
            "application/vnd.plotly.v1+json": {
              "config": {
                "plotlyServerURL": "https://plot.ly"
              },
              "data": [
                {
                  "alignmentgroup": "True",
                  "customdata": [
                    [
                      "Jan"
                    ],
                    [
                      "Apr"
                    ],
                    [
                      "May"
                    ],
                    [
                      "Jun"
                    ],
                    [
                      "Jul"
                    ],
                    [
                      "Aug"
                    ],
                    [
                      "Sep"
                    ]
                  ],
                  "hovertemplate": "Legends=Loss<br>Month=%{customdata[0]}<br>Profit=%{y}<extra></extra>",
                  "legendgroup": "Loss",
                  "marker": {
                    "color": "#EC2049",
                    "pattern": {
                      "shape": ""
                    }
                  },
                  "name": "Loss",
                  "offsetgroup": "Loss",
                  "orientation": "v",
                  "showlegend": true,
                  "textposition": "auto",
                  "type": "bar",
                  "x": [
                    1,
                    4,
                    5,
                    6,
                    7,
                    8,
                    9
                  ],
                  "xaxis": "x",
                  "y": [
                    -3296,
                    -1043,
                    -891,
                    -3759,
                    -2065,
                    -1059,
                    -3509
                  ],
                  "yaxis": "y"
                },
                {
                  "alignmentgroup": "True",
                  "customdata": [
                    [
                      "Feb"
                    ],
                    [
                      "Mar"
                    ],
                    [
                      "Oct"
                    ],
                    [
                      "Nov"
                    ],
                    [
                      "Dec"
                    ]
                  ],
                  "hovertemplate": "Legends=Profit<br>Month=%{customdata[0]}<br>Profit=%{y}<extra></extra>",
                  "legendgroup": "Profit",
                  "marker": {
                    "color": "#358701",
                    "pattern": {
                      "shape": ""
                    }
                  },
                  "name": "Profit",
                  "offsetgroup": "Profit",
                  "orientation": "v",
                  "showlegend": true,
                  "textposition": "auto",
                  "type": "bar",
                  "x": [
                    2,
                    3,
                    10,
                    11,
                    12
                  ],
                  "xaxis": "x",
                  "y": [
                    685,
                    669,
                    5979,
                    4955,
                    1535
                  ],
                  "yaxis": "y"
                }
              ],
              "layout": {
                "barmode": "relative",
                "legend": {
                  "title": {
                    "text": "Legends"
                  },
                  "tracegroupgap": 0
                },
                "template": {
                  "data": {
                    "bar": [
                      {
                        "error_x": {
                          "color": "#2a3f5f"
                        },
                        "error_y": {
                          "color": "#2a3f5f"
                        },
                        "marker": {
                          "line": {
                            "color": "white",
                            "width": 0.5
                          },
                          "pattern": {
                            "fillmode": "overlay",
                            "size": 10,
                            "solidity": 0.2
                          }
                        },
                        "type": "bar"
                      }
                    ],
                    "barpolar": [
                      {
                        "marker": {
                          "line": {
                            "color": "white",
                            "width": 0.5
                          },
                          "pattern": {
                            "fillmode": "overlay",
                            "size": 10,
                            "solidity": 0.2
                          }
                        },
                        "type": "barpolar"
                      }
                    ],
                    "carpet": [
                      {
                        "aaxis": {
                          "endlinecolor": "#2a3f5f",
                          "gridcolor": "#C8D4E3",
                          "linecolor": "#C8D4E3",
                          "minorgridcolor": "#C8D4E3",
                          "startlinecolor": "#2a3f5f"
                        },
                        "baxis": {
                          "endlinecolor": "#2a3f5f",
                          "gridcolor": "#C8D4E3",
                          "linecolor": "#C8D4E3",
                          "minorgridcolor": "#C8D4E3",
                          "startlinecolor": "#2a3f5f"
                        },
                        "type": "carpet"
                      }
                    ],
                    "choropleth": [
                      {
                        "colorbar": {
                          "outlinewidth": 0,
                          "ticks": ""
                        },
                        "type": "choropleth"
                      }
                    ],
                    "contour": [
                      {
                        "colorbar": {
                          "outlinewidth": 0,
                          "ticks": ""
                        },
                        "colorscale": [
                          [
                            0,
                            "#0d0887"
                          ],
                          [
                            0.1111111111111111,
                            "#46039f"
                          ],
                          [
                            0.2222222222222222,
                            "#7201a8"
                          ],
                          [
                            0.3333333333333333,
                            "#9c179e"
                          ],
                          [
                            0.4444444444444444,
                            "#bd3786"
                          ],
                          [
                            0.5555555555555556,
                            "#d8576b"
                          ],
                          [
                            0.6666666666666666,
                            "#ed7953"
                          ],
                          [
                            0.7777777777777778,
                            "#fb9f3a"
                          ],
                          [
                            0.8888888888888888,
                            "#fdca26"
                          ],
                          [
                            1,
                            "#f0f921"
                          ]
                        ],
                        "type": "contour"
                      }
                    ],
                    "contourcarpet": [
                      {
                        "colorbar": {
                          "outlinewidth": 0,
                          "ticks": ""
                        },
                        "type": "contourcarpet"
                      }
                    ],
                    "heatmap": [
                      {
                        "colorbar": {
                          "outlinewidth": 0,
                          "ticks": ""
                        },
                        "colorscale": [
                          [
                            0,
                            "#0d0887"
                          ],
                          [
                            0.1111111111111111,
                            "#46039f"
                          ],
                          [
                            0.2222222222222222,
                            "#7201a8"
                          ],
                          [
                            0.3333333333333333,
                            "#9c179e"
                          ],
                          [
                            0.4444444444444444,
                            "#bd3786"
                          ],
                          [
                            0.5555555555555556,
                            "#d8576b"
                          ],
                          [
                            0.6666666666666666,
                            "#ed7953"
                          ],
                          [
                            0.7777777777777778,
                            "#fb9f3a"
                          ],
                          [
                            0.8888888888888888,
                            "#fdca26"
                          ],
                          [
                            1,
                            "#f0f921"
                          ]
                        ],
                        "type": "heatmap"
                      }
                    ],
                    "heatmapgl": [
                      {
                        "colorbar": {
                          "outlinewidth": 0,
                          "ticks": ""
                        },
                        "colorscale": [
                          [
                            0,
                            "#0d0887"
                          ],
                          [
                            0.1111111111111111,
                            "#46039f"
                          ],
                          [
                            0.2222222222222222,
                            "#7201a8"
                          ],
                          [
                            0.3333333333333333,
                            "#9c179e"
                          ],
                          [
                            0.4444444444444444,
                            "#bd3786"
                          ],
                          [
                            0.5555555555555556,
                            "#d8576b"
                          ],
                          [
                            0.6666666666666666,
                            "#ed7953"
                          ],
                          [
                            0.7777777777777778,
                            "#fb9f3a"
                          ],
                          [
                            0.8888888888888888,
                            "#fdca26"
                          ],
                          [
                            1,
                            "#f0f921"
                          ]
                        ],
                        "type": "heatmapgl"
                      }
                    ],
                    "histogram": [
                      {
                        "marker": {
                          "pattern": {
                            "fillmode": "overlay",
                            "size": 10,
                            "solidity": 0.2
                          }
                        },
                        "type": "histogram"
                      }
                    ],
                    "histogram2d": [
                      {
                        "colorbar": {
                          "outlinewidth": 0,
                          "ticks": ""
                        },
                        "colorscale": [
                          [
                            0,
                            "#0d0887"
                          ],
                          [
                            0.1111111111111111,
                            "#46039f"
                          ],
                          [
                            0.2222222222222222,
                            "#7201a8"
                          ],
                          [
                            0.3333333333333333,
                            "#9c179e"
                          ],
                          [
                            0.4444444444444444,
                            "#bd3786"
                          ],
                          [
                            0.5555555555555556,
                            "#d8576b"
                          ],
                          [
                            0.6666666666666666,
                            "#ed7953"
                          ],
                          [
                            0.7777777777777778,
                            "#fb9f3a"
                          ],
                          [
                            0.8888888888888888,
                            "#fdca26"
                          ],
                          [
                            1,
                            "#f0f921"
                          ]
                        ],
                        "type": "histogram2d"
                      }
                    ],
                    "histogram2dcontour": [
                      {
                        "colorbar": {
                          "outlinewidth": 0,
                          "ticks": ""
                        },
                        "colorscale": [
                          [
                            0,
                            "#0d0887"
                          ],
                          [
                            0.1111111111111111,
                            "#46039f"
                          ],
                          [
                            0.2222222222222222,
                            "#7201a8"
                          ],
                          [
                            0.3333333333333333,
                            "#9c179e"
                          ],
                          [
                            0.4444444444444444,
                            "#bd3786"
                          ],
                          [
                            0.5555555555555556,
                            "#d8576b"
                          ],
                          [
                            0.6666666666666666,
                            "#ed7953"
                          ],
                          [
                            0.7777777777777778,
                            "#fb9f3a"
                          ],
                          [
                            0.8888888888888888,
                            "#fdca26"
                          ],
                          [
                            1,
                            "#f0f921"
                          ]
                        ],
                        "type": "histogram2dcontour"
                      }
                    ],
                    "mesh3d": [
                      {
                        "colorbar": {
                          "outlinewidth": 0,
                          "ticks": ""
                        },
                        "type": "mesh3d"
                      }
                    ],
                    "parcoords": [
                      {
                        "line": {
                          "colorbar": {
                            "outlinewidth": 0,
                            "ticks": ""
                          }
                        },
                        "type": "parcoords"
                      }
                    ],
                    "pie": [
                      {
                        "automargin": true,
                        "type": "pie"
                      }
                    ],
                    "scatter": [
                      {
                        "fillpattern": {
                          "fillmode": "overlay",
                          "size": 10,
                          "solidity": 0.2
                        },
                        "type": "scatter"
                      }
                    ],
                    "scatter3d": [
                      {
                        "line": {
                          "colorbar": {
                            "outlinewidth": 0,
                            "ticks": ""
                          }
                        },
                        "marker": {
                          "colorbar": {
                            "outlinewidth": 0,
                            "ticks": ""
                          }
                        },
                        "type": "scatter3d"
                      }
                    ],
                    "scattercarpet": [
                      {
                        "marker": {
                          "colorbar": {
                            "outlinewidth": 0,
                            "ticks": ""
                          }
                        },
                        "type": "scattercarpet"
                      }
                    ],
                    "scattergeo": [
                      {
                        "marker": {
                          "colorbar": {
                            "outlinewidth": 0,
                            "ticks": ""
                          }
                        },
                        "type": "scattergeo"
                      }
                    ],
                    "scattergl": [
                      {
                        "marker": {
                          "colorbar": {
                            "outlinewidth": 0,
                            "ticks": ""
                          }
                        },
                        "type": "scattergl"
                      }
                    ],
                    "scattermapbox": [
                      {
                        "marker": {
                          "colorbar": {
                            "outlinewidth": 0,
                            "ticks": ""
                          }
                        },
                        "type": "scattermapbox"
                      }
                    ],
                    "scatterpolar": [
                      {
                        "marker": {
                          "colorbar": {
                            "outlinewidth": 0,
                            "ticks": ""
                          }
                        },
                        "type": "scatterpolar"
                      }
                    ],
                    "scatterpolargl": [
                      {
                        "marker": {
                          "colorbar": {
                            "outlinewidth": 0,
                            "ticks": ""
                          }
                        },
                        "type": "scatterpolargl"
                      }
                    ],
                    "scatterternary": [
                      {
                        "marker": {
                          "colorbar": {
                            "outlinewidth": 0,
                            "ticks": ""
                          }
                        },
                        "type": "scatterternary"
                      }
                    ],
                    "surface": [
                      {
                        "colorbar": {
                          "outlinewidth": 0,
                          "ticks": ""
                        },
                        "colorscale": [
                          [
                            0,
                            "#0d0887"
                          ],
                          [
                            0.1111111111111111,
                            "#46039f"
                          ],
                          [
                            0.2222222222222222,
                            "#7201a8"
                          ],
                          [
                            0.3333333333333333,
                            "#9c179e"
                          ],
                          [
                            0.4444444444444444,
                            "#bd3786"
                          ],
                          [
                            0.5555555555555556,
                            "#d8576b"
                          ],
                          [
                            0.6666666666666666,
                            "#ed7953"
                          ],
                          [
                            0.7777777777777778,
                            "#fb9f3a"
                          ],
                          [
                            0.8888888888888888,
                            "#fdca26"
                          ],
                          [
                            1,
                            "#f0f921"
                          ]
                        ],
                        "type": "surface"
                      }
                    ],
                    "table": [
                      {
                        "cells": {
                          "fill": {
                            "color": "#EBF0F8"
                          },
                          "line": {
                            "color": "white"
                          }
                        },
                        "header": {
                          "fill": {
                            "color": "#C8D4E3"
                          },
                          "line": {
                            "color": "white"
                          }
                        },
                        "type": "table"
                      }
                    ]
                  },
                  "layout": {
                    "annotationdefaults": {
                      "arrowcolor": "#2a3f5f",
                      "arrowhead": 0,
                      "arrowwidth": 1
                    },
                    "autotypenumbers": "strict",
                    "coloraxis": {
                      "colorbar": {
                        "outlinewidth": 0,
                        "ticks": ""
                      }
                    },
                    "colorscale": {
                      "diverging": [
                        [
                          0,
                          "#8e0152"
                        ],
                        [
                          0.1,
                          "#c51b7d"
                        ],
                        [
                          0.2,
                          "#de77ae"
                        ],
                        [
                          0.3,
                          "#f1b6da"
                        ],
                        [
                          0.4,
                          "#fde0ef"
                        ],
                        [
                          0.5,
                          "#f7f7f7"
                        ],
                        [
                          0.6,
                          "#e6f5d0"
                        ],
                        [
                          0.7,
                          "#b8e186"
                        ],
                        [
                          0.8,
                          "#7fbc41"
                        ],
                        [
                          0.9,
                          "#4d9221"
                        ],
                        [
                          1,
                          "#276419"
                        ]
                      ],
                      "sequential": [
                        [
                          0,
                          "#0d0887"
                        ],
                        [
                          0.1111111111111111,
                          "#46039f"
                        ],
                        [
                          0.2222222222222222,
                          "#7201a8"
                        ],
                        [
                          0.3333333333333333,
                          "#9c179e"
                        ],
                        [
                          0.4444444444444444,
                          "#bd3786"
                        ],
                        [
                          0.5555555555555556,
                          "#d8576b"
                        ],
                        [
                          0.6666666666666666,
                          "#ed7953"
                        ],
                        [
                          0.7777777777777778,
                          "#fb9f3a"
                        ],
                        [
                          0.8888888888888888,
                          "#fdca26"
                        ],
                        [
                          1,
                          "#f0f921"
                        ]
                      ],
                      "sequentialminus": [
                        [
                          0,
                          "#0d0887"
                        ],
                        [
                          0.1111111111111111,
                          "#46039f"
                        ],
                        [
                          0.2222222222222222,
                          "#7201a8"
                        ],
                        [
                          0.3333333333333333,
                          "#9c179e"
                        ],
                        [
                          0.4444444444444444,
                          "#bd3786"
                        ],
                        [
                          0.5555555555555556,
                          "#d8576b"
                        ],
                        [
                          0.6666666666666666,
                          "#ed7953"
                        ],
                        [
                          0.7777777777777778,
                          "#fb9f3a"
                        ],
                        [
                          0.8888888888888888,
                          "#fdca26"
                        ],
                        [
                          1,
                          "#f0f921"
                        ]
                      ]
                    },
                    "colorway": [
                      "#636efa",
                      "#EF553B",
                      "#00cc96",
                      "#ab63fa",
                      "#FFA15A",
                      "#19d3f3",
                      "#FF6692",
                      "#B6E880",
                      "#FF97FF",
                      "#FECB52"
                    ],
                    "font": {
                      "color": "#2a3f5f"
                    },
                    "geo": {
                      "bgcolor": "white",
                      "lakecolor": "white",
                      "landcolor": "white",
                      "showlakes": true,
                      "showland": true,
                      "subunitcolor": "#C8D4E3"
                    },
                    "hoverlabel": {
                      "align": "left"
                    },
                    "hovermode": "closest",
                    "mapbox": {
                      "style": "light"
                    },
                    "paper_bgcolor": "white",
                    "plot_bgcolor": "white",
                    "polar": {
                      "angularaxis": {
                        "gridcolor": "#EBF0F8",
                        "linecolor": "#EBF0F8",
                        "ticks": ""
                      },
                      "bgcolor": "white",
                      "radialaxis": {
                        "gridcolor": "#EBF0F8",
                        "linecolor": "#EBF0F8",
                        "ticks": ""
                      }
                    },
                    "scene": {
                      "xaxis": {
                        "backgroundcolor": "white",
                        "gridcolor": "#DFE8F3",
                        "gridwidth": 2,
                        "linecolor": "#EBF0F8",
                        "showbackground": true,
                        "ticks": "",
                        "zerolinecolor": "#EBF0F8"
                      },
                      "yaxis": {
                        "backgroundcolor": "white",
                        "gridcolor": "#DFE8F3",
                        "gridwidth": 2,
                        "linecolor": "#EBF0F8",
                        "showbackground": true,
                        "ticks": "",
                        "zerolinecolor": "#EBF0F8"
                      },
                      "zaxis": {
                        "backgroundcolor": "white",
                        "gridcolor": "#DFE8F3",
                        "gridwidth": 2,
                        "linecolor": "#EBF0F8",
                        "showbackground": true,
                        "ticks": "",
                        "zerolinecolor": "#EBF0F8"
                      }
                    },
                    "shapedefaults": {
                      "line": {
                        "color": "#2a3f5f"
                      }
                    },
                    "ternary": {
                      "aaxis": {
                        "gridcolor": "#DFE8F3",
                        "linecolor": "#A2B1C6",
                        "ticks": ""
                      },
                      "baxis": {
                        "gridcolor": "#DFE8F3",
                        "linecolor": "#A2B1C6",
                        "ticks": ""
                      },
                      "bgcolor": "white",
                      "caxis": {
                        "gridcolor": "#DFE8F3",
                        "linecolor": "#A2B1C6",
                        "ticks": ""
                      }
                    },
                    "title": {
                      "x": 0.05
                    },
                    "xaxis": {
                      "automargin": true,
                      "gridcolor": "#EBF0F8",
                      "linecolor": "#EBF0F8",
                      "ticks": "",
                      "title": {
                        "standoff": 15
                      },
                      "zerolinecolor": "#EBF0F8",
                      "zerolinewidth": 2
                    },
                    "yaxis": {
                      "automargin": true,
                      "gridcolor": "#EBF0F8",
                      "linecolor": "#EBF0F8",
                      "ticks": "",
                      "title": {
                        "standoff": 15
                      },
                      "zerolinecolor": "#EBF0F8",
                      "zerolinewidth": 2
                    }
                  }
                },
                "title": {
                  "text": "Monthly Profit in 2018"
                },
                "xaxis": {
                  "anchor": "y",
                  "domain": [
                    0,
                    1
                  ],
                  "ticktext": [
                    "Jan",
                    "Feb",
                    "Mar",
                    "Apr",
                    "May",
                    "Jun",
                    "Jul",
                    "Aug",
                    "Sep",
                    "Oct",
                    "Nov",
                    "Dec"
                  ],
                  "tickvals": [
                    1,
                    2,
                    3,
                    4,
                    5,
                    6,
                    7,
                    8,
                    9,
                    10,
                    11,
                    12
                  ],
                  "title": {
                    "text": "Month"
                  }
                },
                "yaxis": {
                  "anchor": "x",
                  "domain": [
                    0,
                    1
                  ],
                  "tickformat": ",.0f",
                  "tickprefix": "",
                  "title": {
                    "text": "Profit"
                  }
                }
              }
            }
          },
          "metadata": {},
          "output_type": "display_data"
        }
      ],
      "source": [
        "year_wiseDF = year_wiseDF.reset_index()\n",
        "year_wiseDF[\"Color\"] = np.where(year_wiseDF[\"Profit\"]<0, 'Loss', 'Profit')\n",
        "\n",
        "year_month_2018 = year_wiseDF[year_wiseDF['Year']==2018]\n",
        "fig = px.bar(year_month_2018, x='Month_Number', y='Profit', color='Color',\n",
        "             title=\"Monthly Profit in 2018\",\n",
        "             labels=dict(Month_Number=\"Month\", Profit=\"Profit\", Color=\"Legends\"),\n",
        "             color_discrete_map={\n",
        "                 'Loss': '#EC2049',\n",
        "                 'Profit': '#358701'},\n",
        "             hover_data=[\"Month\", \"Profit\"],\n",
        "             template='plotly_white')\n",
        "\n",
        "fig.update_layout(yaxis_tickprefix = '', yaxis_tickformat = ',.0f')\n",
        "\n",
        "fig.update_layout(\n",
        "    xaxis = dict(\n",
        "        tickvals = [1, 2, 3, 4, 5, 6, 7,8 ,9, 10, 11, 12],\n",
        "        ticktext = ['Jan', 'Feb', 'Mar', 'Apr', 'May', 'Jun', 'Jul', 'Aug', 'Sep', 'Oct', 'Nov', 'Dec']\n",
        "    )\n",
        ")\n",
        "fig.show()"
      ]
    },
    {
      "cell_type": "code",
      "execution_count": 18,
      "metadata": {},
      "outputs": [
        {
          "ename": "KeyError",
          "evalue": "'Year'",
          "output_type": "error",
          "traceback": [
            "\u001b[0;31m---------------------------------------------------------------------------\u001b[0m",
            "\u001b[0;31mKeyError\u001b[0m                                  Traceback (most recent call last)",
            "File \u001b[0;32m~/opt/miniconda3/envs/hackpions1/lib/python3.8/site-packages/pandas/core/indexes/base.py:3800\u001b[0m, in \u001b[0;36mIndex.get_loc\u001b[0;34m(self, key, method, tolerance)\u001b[0m\n\u001b[1;32m   3799\u001b[0m \u001b[39mtry\u001b[39;00m:\n\u001b[0;32m-> 3800\u001b[0m     \u001b[39mreturn\u001b[39;00m \u001b[39mself\u001b[39;49m\u001b[39m.\u001b[39;49m_engine\u001b[39m.\u001b[39;49mget_loc(casted_key)\n\u001b[1;32m   3801\u001b[0m \u001b[39mexcept\u001b[39;00m \u001b[39mKeyError\u001b[39;00m \u001b[39mas\u001b[39;00m err:\n",
            "File \u001b[0;32m~/opt/miniconda3/envs/hackpions1/lib/python3.8/site-packages/pandas/_libs/index.pyx:138\u001b[0m, in \u001b[0;36mpandas._libs.index.IndexEngine.get_loc\u001b[0;34m()\u001b[0m\n",
            "File \u001b[0;32m~/opt/miniconda3/envs/hackpions1/lib/python3.8/site-packages/pandas/_libs/index.pyx:165\u001b[0m, in \u001b[0;36mpandas._libs.index.IndexEngine.get_loc\u001b[0;34m()\u001b[0m\n",
            "File \u001b[0;32mpandas/_libs/hashtable_class_helper.pxi:5745\u001b[0m, in \u001b[0;36mpandas._libs.hashtable.PyObjectHashTable.get_item\u001b[0;34m()\u001b[0m\n",
            "File \u001b[0;32mpandas/_libs/hashtable_class_helper.pxi:5753\u001b[0m, in \u001b[0;36mpandas._libs.hashtable.PyObjectHashTable.get_item\u001b[0;34m()\u001b[0m\n",
            "\u001b[0;31mKeyError\u001b[0m: 'Year'",
            "\nThe above exception was the direct cause of the following exception:\n",
            "\u001b[0;31mKeyError\u001b[0m                                  Traceback (most recent call last)",
            "\u001b[1;32m/Users/arx6363/Desktop/AbinBev/Solution.ipynb Cell 32\u001b[0m in \u001b[0;36m<cell line: 1>\u001b[0;34m()\u001b[0m\n\u001b[0;32m----> <a href='vscode-notebook-cell:/Users/arx6363/Desktop/AbinBev/Solution.ipynb#X45sZmlsZQ%3D%3D?line=0'>1</a>\u001b[0m year_month_2019 \u001b[39m=\u001b[39m year_wiseDF[year_wiseDF[\u001b[39m'\u001b[39;49m\u001b[39mYear\u001b[39;49m\u001b[39m'\u001b[39;49m] \u001b[39m==\u001b[39m \u001b[39m2019\u001b[39m]\n\u001b[1;32m      <a href='vscode-notebook-cell:/Users/arx6363/Desktop/AbinBev/Solution.ipynb#X45sZmlsZQ%3D%3D?line=1'>2</a>\u001b[0m fig \u001b[39m=\u001b[39m px\u001b[39m.\u001b[39mbar(year_month_2019, x\u001b[39m=\u001b[39m\u001b[39m'\u001b[39m\u001b[39mMonth_Number\u001b[39m\u001b[39m'\u001b[39m, y\u001b[39m=\u001b[39m\u001b[39m'\u001b[39m\u001b[39mProfit\u001b[39m\u001b[39m'\u001b[39m, color\u001b[39m=\u001b[39m\u001b[39m'\u001b[39m\u001b[39mColor\u001b[39m\u001b[39m'\u001b[39m,\n\u001b[1;32m      <a href='vscode-notebook-cell:/Users/arx6363/Desktop/AbinBev/Solution.ipynb#X45sZmlsZQ%3D%3D?line=2'>3</a>\u001b[0m              title\u001b[39m=\u001b[39m\u001b[39m\"\u001b[39m\u001b[39mMonthly Profit in 2019\u001b[39m\u001b[39m\"\u001b[39m,\n\u001b[1;32m      <a href='vscode-notebook-cell:/Users/arx6363/Desktop/AbinBev/Solution.ipynb#X45sZmlsZQ%3D%3D?line=3'>4</a>\u001b[0m              labels\u001b[39m=\u001b[39m\u001b[39mdict\u001b[39m(Month_Number\u001b[39m=\u001b[39m\u001b[39m\"\u001b[39m\u001b[39mMonth\u001b[39m\u001b[39m\"\u001b[39m, Profit\u001b[39m=\u001b[39m\u001b[39m\"\u001b[39m\u001b[39mProfit\u001b[39m\u001b[39m\"\u001b[39m, Color\u001b[39m=\u001b[39m\u001b[39m\"\u001b[39m\u001b[39mResults\u001b[39m\u001b[39m\"\u001b[39m),\n\u001b[0;32m   (...)\u001b[0m\n\u001b[1;32m      <a href='vscode-notebook-cell:/Users/arx6363/Desktop/AbinBev/Solution.ipynb#X45sZmlsZQ%3D%3D?line=7'>8</a>\u001b[0m              hover_data\u001b[39m=\u001b[39m[\u001b[39m\"\u001b[39m\u001b[39mMonth\u001b[39m\u001b[39m\"\u001b[39m, \u001b[39m\"\u001b[39m\u001b[39mProfit\u001b[39m\u001b[39m\"\u001b[39m],\n\u001b[1;32m      <a href='vscode-notebook-cell:/Users/arx6363/Desktop/AbinBev/Solution.ipynb#X45sZmlsZQ%3D%3D?line=8'>9</a>\u001b[0m              template\u001b[39m=\u001b[39m\u001b[39m'\u001b[39m\u001b[39mplotly_white\u001b[39m\u001b[39m'\u001b[39m)\n\u001b[1;32m     <a href='vscode-notebook-cell:/Users/arx6363/Desktop/AbinBev/Solution.ipynb#X45sZmlsZQ%3D%3D?line=10'>11</a>\u001b[0m fig\u001b[39m.\u001b[39mupdate_layout(yaxis_tickprefix \u001b[39m=\u001b[39m \u001b[39m'\u001b[39m\u001b[39m₹\u001b[39m\u001b[39m'\u001b[39m, yaxis_tickformat \u001b[39m=\u001b[39m \u001b[39m'\u001b[39m\u001b[39m,.0f\u001b[39m\u001b[39m'\u001b[39m)\n",
            "File \u001b[0;32m~/opt/miniconda3/envs/hackpions1/lib/python3.8/site-packages/pandas/core/frame.py:3805\u001b[0m, in \u001b[0;36mDataFrame.__getitem__\u001b[0;34m(self, key)\u001b[0m\n\u001b[1;32m   3803\u001b[0m \u001b[39mif\u001b[39;00m \u001b[39mself\u001b[39m\u001b[39m.\u001b[39mcolumns\u001b[39m.\u001b[39mnlevels \u001b[39m>\u001b[39m \u001b[39m1\u001b[39m:\n\u001b[1;32m   3804\u001b[0m     \u001b[39mreturn\u001b[39;00m \u001b[39mself\u001b[39m\u001b[39m.\u001b[39m_getitem_multilevel(key)\n\u001b[0;32m-> 3805\u001b[0m indexer \u001b[39m=\u001b[39m \u001b[39mself\u001b[39;49m\u001b[39m.\u001b[39;49mcolumns\u001b[39m.\u001b[39;49mget_loc(key)\n\u001b[1;32m   3806\u001b[0m \u001b[39mif\u001b[39;00m is_integer(indexer):\n\u001b[1;32m   3807\u001b[0m     indexer \u001b[39m=\u001b[39m [indexer]\n",
            "File \u001b[0;32m~/opt/miniconda3/envs/hackpions1/lib/python3.8/site-packages/pandas/core/indexes/base.py:3802\u001b[0m, in \u001b[0;36mIndex.get_loc\u001b[0;34m(self, key, method, tolerance)\u001b[0m\n\u001b[1;32m   3800\u001b[0m     \u001b[39mreturn\u001b[39;00m \u001b[39mself\u001b[39m\u001b[39m.\u001b[39m_engine\u001b[39m.\u001b[39mget_loc(casted_key)\n\u001b[1;32m   3801\u001b[0m \u001b[39mexcept\u001b[39;00m \u001b[39mKeyError\u001b[39;00m \u001b[39mas\u001b[39;00m err:\n\u001b[0;32m-> 3802\u001b[0m     \u001b[39mraise\u001b[39;00m \u001b[39mKeyError\u001b[39;00m(key) \u001b[39mfrom\u001b[39;00m \u001b[39merr\u001b[39;00m\n\u001b[1;32m   3803\u001b[0m \u001b[39mexcept\u001b[39;00m \u001b[39mTypeError\u001b[39;00m:\n\u001b[1;32m   3804\u001b[0m     \u001b[39m# If we have a listlike key, _check_indexing_error will raise\u001b[39;00m\n\u001b[1;32m   3805\u001b[0m     \u001b[39m#  InvalidIndexError. Otherwise we fall through and re-raise\u001b[39;00m\n\u001b[1;32m   3806\u001b[0m     \u001b[39m#  the TypeError.\u001b[39;00m\n\u001b[1;32m   3807\u001b[0m     \u001b[39mself\u001b[39m\u001b[39m.\u001b[39m_check_indexing_error(key)\n",
            "\u001b[0;31mKeyError\u001b[0m: 'Year'"
          ]
        }
      ],
      "source": [
        "year_month_2019 = year_wiseDF[year_wiseDF['Year'] == 2019]\n",
        "fig = px.bar(year_month_2019, x='Month_Number', y='Profit', color='Color',\n",
        "             title=\"Monthly Profit in 2019\",\n",
        "             labels=dict(Month_Number=\"Month\", Profit=\"Profit\", Color=\"Results\"),\n",
        "             color_discrete_map={\n",
        "                 'Loss': '#EC2049',\n",
        "                 'Profit': '#358701'},\n",
        "             hover_data=[\"Month\", \"Profit\"],\n",
        "             template='plotly_white')\n",
        "\n",
        "fig.update_layout(yaxis_tickprefix = '₹', yaxis_tickformat = ',.0f')\n",
        "\n",
        "fig.update_layout(\n",
        "    xaxis = dict(\n",
        "        tickvals = [1, 2, 3, 4, 5, 6, 7,8 ,9, 10, 11, 12],\n",
        "        ticktext = ['Jan', 'Feb', 'Mar', 'Apr', 'May', 'Jun', 'Jul', 'Aug', 'Sep', 'Oct', 'Nov', 'Dec']\n",
        "    )\n",
        ")\n",
        "fig.show()"
      ]
    },
    {
      "cell_type": "markdown",
      "metadata": {},
      "source": [
        "### State wise sales analysis"
      ]
    },
    {
      "cell_type": "code",
      "execution_count": null,
      "metadata": {},
      "outputs": [
        {
          "data": {
            "text/html": [
              "<div>\n",
              "<style scoped>\n",
              "    .dataframe tbody tr th:only-of-type {\n",
              "        vertical-align: middle;\n",
              "    }\n",
              "\n",
              "    .dataframe tbody tr th {\n",
              "        vertical-align: top;\n",
              "    }\n",
              "\n",
              "    .dataframe thead th {\n",
              "        text-align: right;\n",
              "    }\n",
              "</style>\n",
              "<table border=\"1\" class=\"dataframe\">\n",
              "  <thead>\n",
              "    <tr style=\"text-align: right;\">\n",
              "      <th></th>\n",
              "      <th>Order ID</th>\n",
              "      <th>Amount</th>\n",
              "      <th>Profit</th>\n",
              "      <th>Quantity</th>\n",
              "      <th>Category</th>\n",
              "      <th>Sub-Category</th>\n",
              "      <th>Order Date</th>\n",
              "      <th>CustomerName</th>\n",
              "      <th>State</th>\n",
              "      <th>City</th>\n",
              "    </tr>\n",
              "  </thead>\n",
              "  <tbody>\n",
              "    <tr>\n",
              "      <th>0</th>\n",
              "      <td>B-25601</td>\n",
              "      <td>1275</td>\n",
              "      <td>-1148</td>\n",
              "      <td>7</td>\n",
              "      <td>Furniture</td>\n",
              "      <td>Bookcases</td>\n",
              "      <td>2018-01-04</td>\n",
              "      <td>Bharat</td>\n",
              "      <td>Gujarat</td>\n",
              "      <td>Ahmedabad</td>\n",
              "    </tr>\n",
              "    <tr>\n",
              "      <th>1</th>\n",
              "      <td>B-25601</td>\n",
              "      <td>66</td>\n",
              "      <td>-12</td>\n",
              "      <td>5</td>\n",
              "      <td>Clothing</td>\n",
              "      <td>Stole</td>\n",
              "      <td>2018-01-04</td>\n",
              "      <td>Bharat</td>\n",
              "      <td>Gujarat</td>\n",
              "      <td>Ahmedabad</td>\n",
              "    </tr>\n",
              "    <tr>\n",
              "      <th>2</th>\n",
              "      <td>B-25601</td>\n",
              "      <td>8</td>\n",
              "      <td>-2</td>\n",
              "      <td>3</td>\n",
              "      <td>Clothing</td>\n",
              "      <td>Hankerchief</td>\n",
              "      <td>2018-01-04</td>\n",
              "      <td>Bharat</td>\n",
              "      <td>Gujarat</td>\n",
              "      <td>Ahmedabad</td>\n",
              "    </tr>\n",
              "    <tr>\n",
              "      <th>3</th>\n",
              "      <td>B-25601</td>\n",
              "      <td>80</td>\n",
              "      <td>-56</td>\n",
              "      <td>4</td>\n",
              "      <td>Electronics</td>\n",
              "      <td>Electronic Games</td>\n",
              "      <td>2018-01-04</td>\n",
              "      <td>Bharat</td>\n",
              "      <td>Gujarat</td>\n",
              "      <td>Ahmedabad</td>\n",
              "    </tr>\n",
              "    <tr>\n",
              "      <th>4</th>\n",
              "      <td>B-25602</td>\n",
              "      <td>168</td>\n",
              "      <td>-111</td>\n",
              "      <td>2</td>\n",
              "      <td>Electronics</td>\n",
              "      <td>Phones</td>\n",
              "      <td>2018-01-04</td>\n",
              "      <td>Pearl</td>\n",
              "      <td>Maharashtra</td>\n",
              "      <td>Pune</td>\n",
              "    </tr>\n",
              "  </tbody>\n",
              "</table>\n",
              "</div>"
            ],
            "text/plain": [
              "  Order ID  Amount  Profit  Quantity     Category      Sub-Category  \\\n",
              "0  B-25601    1275   -1148         7    Furniture         Bookcases   \n",
              "1  B-25601      66     -12         5     Clothing             Stole   \n",
              "2  B-25601       8      -2         3     Clothing       Hankerchief   \n",
              "3  B-25601      80     -56         4  Electronics  Electronic Games   \n",
              "4  B-25602     168    -111         2  Electronics            Phones   \n",
              "\n",
              "  Order Date CustomerName        State       City  \n",
              "0 2018-01-04       Bharat      Gujarat  Ahmedabad  \n",
              "1 2018-01-04       Bharat      Gujarat  Ahmedabad  \n",
              "2 2018-01-04       Bharat      Gujarat  Ahmedabad  \n",
              "3 2018-01-04       Bharat      Gujarat  Ahmedabad  \n",
              "4 2018-01-04        Pearl  Maharashtra       Pune  "
            ]
          },
          "execution_count": 65,
          "metadata": {},
          "output_type": "execute_result"
        }
      ],
      "source": [
        "state_wise_cat_df = pd.merge(order_details, list_of_orders, on='Order ID', how='left')\n",
        "state_wise_cat_df.head()"
      ]
    },
    {
      "cell_type": "code",
      "execution_count": null,
      "metadata": {},
      "outputs": [
        {
          "data": {
            "application/vnd.plotly.v1+json": {
              "config": {
                "plotlyServerURL": "https://plot.ly"
              },
              "data": [
                {
                  "alignmentgroup": "True",
                  "bingroup": "x",
                  "hovertemplate": "Category=Furniture<br>State=%{x}<br>count=%{y}<extra></extra>",
                  "legendgroup": "Furniture",
                  "marker": {
                    "color": "#636efa",
                    "pattern": {
                      "shape": ""
                    }
                  },
                  "name": "Furniture",
                  "offsetgroup": "Furniture",
                  "orientation": "v",
                  "showlegend": true,
                  "texttemplate": "%{value}",
                  "type": "histogram",
                  "x": [
                    "Gujarat",
                    "Madhya Pradesh",
                    "Tamil Nadu",
                    "Tamil Nadu",
                    "Bihar",
                    "Punjab",
                    "Himachal Pradesh",
                    "Andhra Pradesh",
                    "Maharashtra",
                    "Bihar",
                    "Haryana",
                    "Goa",
                    "Maharashtra",
                    "Maharashtra",
                    "West Bengal",
                    "Jammu and Kashmir",
                    "Maharashtra",
                    "Madhya Pradesh",
                    "Madhya Pradesh",
                    "Madhya Pradesh",
                    "Nagaland",
                    "Maharashtra",
                    "Maharashtra",
                    "Madhya Pradesh",
                    "Madhya Pradesh",
                    "Jammu and Kashmir",
                    "Jammu and Kashmir",
                    "Jammu and Kashmir",
                    "Jammu and Kashmir",
                    "Maharashtra",
                    "Bihar",
                    "Haryana",
                    "Himachal Pradesh",
                    "Sikkim",
                    "Goa",
                    "Rajasthan",
                    "Madhya Pradesh",
                    "Kerala ",
                    "Maharashtra",
                    "Madhya Pradesh",
                    "Madhya Pradesh",
                    "Himachal Pradesh",
                    "Madhya Pradesh",
                    "Tamil Nadu",
                    "Uttar Pradesh",
                    "Madhya Pradesh",
                    "Maharashtra",
                    "Maharashtra",
                    "Madhya Pradesh",
                    "Madhya Pradesh",
                    "Madhya Pradesh",
                    "Maharashtra",
                    "Maharashtra",
                    "West Bengal",
                    "Uttar Pradesh",
                    "Maharashtra",
                    "Maharashtra",
                    "Punjab",
                    "Madhya Pradesh",
                    "Maharashtra",
                    "Rajasthan",
                    "Rajasthan",
                    "West Bengal",
                    "Punjab",
                    "Haryana",
                    "Gujarat",
                    "Gujarat",
                    "Madhya Pradesh",
                    "Maharashtra",
                    "Madhya Pradesh",
                    "Madhya Pradesh",
                    "Madhya Pradesh",
                    "Madhya Pradesh",
                    "Madhya Pradesh",
                    "Madhya Pradesh",
                    "Uttar Pradesh",
                    "Kerala ",
                    "Kerala ",
                    "Kerala ",
                    "Maharashtra",
                    "Maharashtra",
                    "Madhya Pradesh",
                    "Maharashtra",
                    "Gujarat",
                    "Madhya Pradesh",
                    "Madhya Pradesh",
                    "Madhya Pradesh",
                    "Madhya Pradesh",
                    "Kerala ",
                    "Kerala ",
                    "Punjab",
                    "Madhya Pradesh",
                    "Maharashtra",
                    "Karnataka",
                    "Karnataka",
                    "Jammu and Kashmir",
                    "Uttar Pradesh",
                    "Uttar Pradesh",
                    "Maharashtra",
                    "Madhya Pradesh",
                    "Madhya Pradesh",
                    "Madhya Pradesh",
                    "Andhra Pradesh",
                    "Gujarat",
                    "Madhya Pradesh",
                    "Maharashtra",
                    "Madhya Pradesh",
                    "Maharashtra",
                    "Madhya Pradesh",
                    "Rajasthan",
                    "Maharashtra",
                    "Maharashtra",
                    "Madhya Pradesh",
                    "Madhya Pradesh",
                    "Maharashtra",
                    "Karnataka",
                    "Karnataka",
                    "Haryana",
                    "Himachal Pradesh",
                    "Nagaland",
                    "Andhra Pradesh",
                    "Gujarat",
                    "Gujarat",
                    "Maharashtra",
                    "Madhya Pradesh",
                    "Madhya Pradesh",
                    "Madhya Pradesh",
                    "Madhya Pradesh",
                    "Maharashtra",
                    "Madhya Pradesh",
                    "Bihar",
                    "Goa",
                    "Andhra Pradesh",
                    "Gujarat",
                    "Maharashtra",
                    "Maharashtra",
                    "Maharashtra",
                    "Uttar Pradesh",
                    "Gujarat",
                    "Madhya Pradesh",
                    "Madhya Pradesh",
                    "Punjab",
                    "Gujarat",
                    "Maharashtra",
                    "Rajasthan",
                    "Rajasthan",
                    "Uttar Pradesh",
                    "Gujarat",
                    "Maharashtra",
                    "Madhya Pradesh",
                    "Delhi",
                    "Delhi",
                    "Delhi",
                    "Delhi",
                    "Madhya Pradesh",
                    "Karnataka",
                    "Maharashtra",
                    "Bihar",
                    "Kerala ",
                    "Kerala ",
                    "Kerala ",
                    "Punjab",
                    "Maharashtra",
                    "Madhya Pradesh",
                    "Nagaland",
                    "Nagaland",
                    "Haryana",
                    "Himachal Pradesh",
                    "Madhya Pradesh",
                    "Maharashtra",
                    "Madhya Pradesh",
                    "West Bengal",
                    "Madhya Pradesh",
                    "Andhra Pradesh",
                    "Gujarat",
                    "Maharashtra",
                    "Madhya Pradesh",
                    "Madhya Pradesh",
                    "Madhya Pradesh",
                    "Andhra Pradesh",
                    "Gujarat",
                    "Maharashtra",
                    "Maharashtra",
                    "Madhya Pradesh",
                    "Uttar Pradesh",
                    "Gujarat",
                    "Maharashtra",
                    "Madhya Pradesh",
                    "Rajasthan",
                    "Madhya Pradesh",
                    "Delhi",
                    "Delhi",
                    "Delhi",
                    "Delhi",
                    "Rajasthan",
                    "Delhi",
                    "Madhya Pradesh",
                    "Delhi",
                    "Delhi",
                    "Delhi",
                    "Delhi",
                    "Delhi",
                    "Madhya Pradesh",
                    "Rajasthan",
                    "Delhi",
                    "Delhi",
                    "Delhi",
                    "Madhya Pradesh",
                    "Madhya Pradesh",
                    "Madhya Pradesh",
                    "Madhya Pradesh",
                    "Jammu and Kashmir",
                    "Bihar",
                    "Rajasthan",
                    "Rajasthan",
                    "Jammu and Kashmir",
                    "Tamil Nadu",
                    "Kerala ",
                    "Haryana",
                    "Haryana",
                    "West Bengal",
                    "Maharashtra",
                    "Haryana",
                    "Nagaland",
                    "Maharashtra",
                    "Maharashtra",
                    "West Bengal",
                    "West Bengal",
                    "Jammu and Kashmir",
                    "Jammu and Kashmir",
                    "Jammu and Kashmir",
                    "Madhya Pradesh",
                    "Madhya Pradesh",
                    "Bihar",
                    "Kerala ",
                    "Madhya Pradesh",
                    "Karnataka",
                    "Madhya Pradesh",
                    "Tamil Nadu",
                    "Maharashtra",
                    "Karnataka",
                    "Jammu and Kashmir",
                    "Madhya Pradesh"
                  ],
                  "xaxis": "x",
                  "yaxis": "y"
                },
                {
                  "alignmentgroup": "True",
                  "bingroup": "x",
                  "hovertemplate": "Category=Clothing<br>State=%{x}<br>count=%{y}<extra></extra>",
                  "legendgroup": "Clothing",
                  "marker": {
                    "color": "#EF553B",
                    "pattern": {
                      "shape": ""
                    }
                  },
                  "name": "Clothing",
                  "offsetgroup": "Clothing",
                  "orientation": "v",
                  "showlegend": true,
                  "texttemplate": "%{value}",
                  "type": "histogram",
                  "x": [
                    "Gujarat",
                    "Gujarat",
                    "Maharashtra",
                    "Maharashtra",
                    "Madhya Pradesh",
                    "Madhya Pradesh",
                    "Madhya Pradesh",
                    "Madhya Pradesh",
                    "Madhya Pradesh",
                    "Madhya Pradesh",
                    "Madhya Pradesh",
                    "Rajasthan",
                    "Rajasthan",
                    "West Bengal",
                    "Karnataka",
                    "Jammu and Kashmir",
                    "Tamil Nadu",
                    "Uttar Pradesh",
                    "Bihar",
                    "Bihar",
                    "Kerala ",
                    "Haryana",
                    "Sikkim",
                    "Goa",
                    "Goa",
                    "Goa",
                    "Goa",
                    "Andhra Pradesh",
                    "Gujarat",
                    "Rajasthan",
                    "West Bengal",
                    "West Bengal",
                    "West Bengal",
                    "West Bengal",
                    "Karnataka",
                    "Jammu and Kashmir",
                    "Jammu and Kashmir",
                    "Jammu and Kashmir",
                    "Madhya Pradesh",
                    "Bihar",
                    "Bihar",
                    "Kerala ",
                    "Punjab",
                    "Punjab",
                    "Punjab",
                    "Punjab",
                    "Punjab",
                    "Himachal Pradesh",
                    "Sikkim",
                    "Sikkim",
                    "Nagaland",
                    "Nagaland",
                    "Nagaland",
                    "Maharashtra",
                    "Madhya Pradesh",
                    "Maharashtra",
                    "Rajasthan",
                    "Rajasthan",
                    "Rajasthan",
                    "Karnataka",
                    "Jammu and Kashmir",
                    "Jammu and Kashmir",
                    "Madhya Pradesh",
                    "Bihar",
                    "Kerala ",
                    "Punjab",
                    "Punjab",
                    "Punjab",
                    "Haryana",
                    "Maharashtra",
                    "Maharashtra",
                    "Maharashtra",
                    "Maharashtra",
                    "Maharashtra",
                    "Maharashtra",
                    "Madhya Pradesh",
                    "Madhya Pradesh",
                    "Madhya Pradesh",
                    "Madhya Pradesh",
                    "Madhya Pradesh",
                    "Madhya Pradesh",
                    "Madhya Pradesh",
                    "Goa",
                    "Goa",
                    "Goa",
                    "Goa",
                    "Goa",
                    "Goa",
                    "Nagaland",
                    "Maharashtra",
                    "Maharashtra",
                    "Maharashtra",
                    "Maharashtra",
                    "Madhya Pradesh",
                    "Madhya Pradesh",
                    "Madhya Pradesh",
                    "Madhya Pradesh",
                    "Madhya Pradesh",
                    "Madhya Pradesh",
                    "Madhya Pradesh",
                    "Madhya Pradesh",
                    "Maharashtra",
                    "Maharashtra",
                    "Maharashtra",
                    "Maharashtra",
                    "Maharashtra",
                    "Maharashtra",
                    "Maharashtra",
                    "Maharashtra",
                    "Maharashtra",
                    "Maharashtra",
                    "Madhya Pradesh",
                    "Rajasthan",
                    "West Bengal",
                    "Karnataka",
                    "Jammu and Kashmir",
                    "Jammu and Kashmir",
                    "Maharashtra",
                    "Haryana",
                    "Haryana",
                    "Haryana",
                    "Goa",
                    "Goa",
                    "Goa",
                    "Nagaland",
                    "Andhra Pradesh",
                    "Gujarat",
                    "Gujarat",
                    "Gujarat",
                    "Gujarat",
                    "Gujarat",
                    "Maharashtra",
                    "Madhya Pradesh",
                    "Rajasthan",
                    "Rajasthan",
                    "Rajasthan",
                    "Karnataka",
                    "Karnataka",
                    "Karnataka",
                    "Maharashtra",
                    "Madhya Pradesh",
                    "Madhya Pradesh",
                    "Madhya Pradesh",
                    "Kerala ",
                    "Kerala ",
                    "Madhya Pradesh",
                    "Himachal Pradesh",
                    "Maharashtra",
                    "Maharashtra",
                    "Maharashtra",
                    "Maharashtra",
                    "Maharashtra",
                    "Madhya Pradesh",
                    "Maharashtra",
                    "Maharashtra",
                    "Madhya Pradesh",
                    "Maharashtra",
                    "Maharashtra",
                    "Maharashtra",
                    "Madhya Pradesh",
                    "Madhya Pradesh",
                    "Madhya Pradesh",
                    "Madhya Pradesh",
                    "Madhya Pradesh",
                    "Rajasthan",
                    "West Bengal",
                    "Karnataka",
                    "Karnataka",
                    "Karnataka",
                    "Karnataka",
                    "Jammu and Kashmir",
                    "Jammu and Kashmir",
                    "Jammu and Kashmir",
                    "Tamil Nadu",
                    "Tamil Nadu",
                    "Tamil Nadu",
                    "Tamil Nadu",
                    "Uttar Pradesh",
                    "Uttar Pradesh",
                    "Maharashtra",
                    "Maharashtra",
                    "Maharashtra",
                    "Madhya Pradesh",
                    "Madhya Pradesh",
                    "Madhya Pradesh",
                    "Maharashtra",
                    "Maharashtra",
                    "Maharashtra",
                    "Madhya Pradesh",
                    "Madhya Pradesh",
                    "Madhya Pradesh",
                    "Madhya Pradesh",
                    "Madhya Pradesh",
                    "Madhya Pradesh",
                    "Madhya Pradesh",
                    "Goa",
                    "Maharashtra",
                    "Madhya Pradesh",
                    "Madhya Pradesh",
                    "Madhya Pradesh",
                    "Maharashtra",
                    "Maharashtra",
                    "Maharashtra",
                    "Maharashtra",
                    "Madhya Pradesh",
                    "Karnataka",
                    "Karnataka",
                    "Tamil Nadu",
                    "Uttar Pradesh",
                    "Uttar Pradesh",
                    "Uttar Pradesh",
                    "Madhya Pradesh",
                    "Haryana",
                    "Haryana",
                    "Himachal Pradesh",
                    "Maharashtra",
                    "Maharashtra",
                    "Maharashtra",
                    "Nagaland",
                    "Nagaland",
                    "Madhya Pradesh",
                    "Madhya Pradesh",
                    "Maharashtra",
                    "Rajasthan",
                    "Rajasthan",
                    "Karnataka",
                    "Maharashtra",
                    "Maharashtra",
                    "Maharashtra",
                    "Uttar Pradesh",
                    "Uttar Pradesh",
                    "Uttar Pradesh",
                    "Maharashtra",
                    "Madhya Pradesh",
                    "Punjab",
                    "Punjab",
                    "Maharashtra",
                    "Maharashtra",
                    "Maharashtra",
                    "Goa",
                    "Nagaland",
                    "Nagaland",
                    "Nagaland",
                    "Nagaland",
                    "Nagaland",
                    "Gujarat",
                    "Gujarat",
                    "Maharashtra",
                    "Rajasthan",
                    "Rajasthan",
                    "Madhya Pradesh",
                    "Madhya Pradesh",
                    "Madhya Pradesh",
                    "Madhya Pradesh",
                    "Madhya Pradesh",
                    "Maharashtra",
                    "Maharashtra",
                    "Maharashtra",
                    "Maharashtra",
                    "Maharashtra",
                    "Maharashtra",
                    "Madhya Pradesh",
                    "Madhya Pradesh",
                    "Madhya Pradesh",
                    "Uttar Pradesh",
                    "Uttar Pradesh",
                    "Uttar Pradesh",
                    "Uttar Pradesh",
                    "Uttar Pradesh",
                    "Uttar Pradesh",
                    "Bihar",
                    "Bihar",
                    "Bihar",
                    "Bihar",
                    "Bihar",
                    "Bihar",
                    "Bihar",
                    "Kerala ",
                    "Kerala ",
                    "Kerala ",
                    "Kerala ",
                    "Kerala ",
                    "Kerala ",
                    "Maharashtra",
                    "Madhya Pradesh",
                    "Madhya Pradesh",
                    "Madhya Pradesh",
                    "Madhya Pradesh",
                    "Madhya Pradesh",
                    "Madhya Pradesh",
                    "Madhya Pradesh",
                    "Madhya Pradesh",
                    "Madhya Pradesh",
                    "Madhya Pradesh",
                    "Himachal Pradesh",
                    "Sikkim",
                    "Maharashtra",
                    "Maharashtra",
                    "Madhya Pradesh",
                    "Madhya Pradesh",
                    "Maharashtra",
                    "Maharashtra",
                    "Maharashtra",
                    "Madhya Pradesh",
                    "Rajasthan",
                    "West Bengal",
                    "West Bengal",
                    "West Bengal",
                    "Karnataka",
                    "Maharashtra",
                    "Uttar Pradesh",
                    "Kerala ",
                    "Kerala ",
                    "Haryana",
                    "Maharashtra",
                    "Madhya Pradesh",
                    "Madhya Pradesh",
                    "Madhya Pradesh",
                    "Maharashtra",
                    "Maharashtra",
                    "Gujarat",
                    "Gujarat",
                    "Gujarat",
                    "Gujarat",
                    "Gujarat",
                    "Madhya Pradesh",
                    "Madhya Pradesh",
                    "Madhya Pradesh",
                    "Madhya Pradesh",
                    "Madhya Pradesh",
                    "Rajasthan",
                    "West Bengal",
                    "West Bengal",
                    "West Bengal",
                    "West Bengal",
                    "Karnataka",
                    "Karnataka",
                    "Jammu and Kashmir",
                    "Jammu and Kashmir",
                    "Tamil Nadu",
                    "Uttar Pradesh",
                    "Kerala ",
                    "Kerala ",
                    "Kerala ",
                    "Maharashtra",
                    "Madhya Pradesh",
                    "Madhya Pradesh",
                    "Madhya Pradesh",
                    "Madhya Pradesh",
                    "Madhya Pradesh",
                    "Madhya Pradesh",
                    "Madhya Pradesh",
                    "Maharashtra",
                    "Maharashtra",
                    "Maharashtra",
                    "Maharashtra",
                    "Maharashtra",
                    "Madhya Pradesh",
                    "Madhya Pradesh",
                    "Andhra Pradesh",
                    "Andhra Pradesh",
                    "Andhra Pradesh",
                    "Andhra Pradesh",
                    "Gujarat",
                    "Gujarat",
                    "Gujarat",
                    "Maharashtra",
                    "Maharashtra",
                    "Madhya Pradesh",
                    "Madhya Pradesh",
                    "Madhya Pradesh",
                    "Madhya Pradesh",
                    "Maharashtra",
                    "Maharashtra",
                    "Maharashtra",
                    "Maharashtra",
                    "Madhya Pradesh",
                    "Madhya Pradesh",
                    "Madhya Pradesh",
                    "Madhya Pradesh",
                    "Madhya Pradesh",
                    "Karnataka",
                    "Uttar Pradesh",
                    "Bihar",
                    "Bihar",
                    "Bihar",
                    "Kerala ",
                    "Kerala ",
                    "Punjab",
                    "Punjab",
                    "Punjab",
                    "Punjab",
                    "Punjab",
                    "Maharashtra",
                    "Madhya Pradesh",
                    "Madhya Pradesh",
                    "Madhya Pradesh",
                    "Nagaland",
                    "Andhra Pradesh",
                    "Madhya Pradesh",
                    "Madhya Pradesh",
                    "Madhya Pradesh",
                    "Madhya Pradesh",
                    "West Bengal",
                    "West Bengal",
                    "Karnataka",
                    "Madhya Pradesh",
                    "Madhya Pradesh",
                    "Punjab",
                    "Punjab",
                    "Punjab",
                    "Punjab",
                    "Haryana",
                    "Himachal Pradesh",
                    "Himachal Pradesh",
                    "Himachal Pradesh",
                    "Sikkim",
                    "Madhya Pradesh",
                    "Madhya Pradesh",
                    "Madhya Pradesh",
                    "Andhra Pradesh",
                    "Gujarat",
                    "Gujarat",
                    "Gujarat",
                    "Maharashtra",
                    "Madhya Pradesh",
                    "Madhya Pradesh",
                    "Madhya Pradesh",
                    "West Bengal",
                    "Karnataka",
                    "Maharashtra",
                    "Maharashtra",
                    "Maharashtra",
                    "Maharashtra",
                    "Maharashtra",
                    "Madhya Pradesh",
                    "Kerala ",
                    "Kerala ",
                    "Punjab",
                    "Himachal Pradesh",
                    "Goa",
                    "Goa",
                    "Goa",
                    "Goa",
                    "Goa",
                    "Goa",
                    "Goa",
                    "Nagaland",
                    "Nagaland",
                    "Nagaland",
                    "Nagaland",
                    "Nagaland",
                    "Nagaland",
                    "Nagaland",
                    "Nagaland",
                    "Andhra Pradesh",
                    "Andhra Pradesh",
                    "Andhra Pradesh",
                    "Andhra Pradesh",
                    "Andhra Pradesh",
                    "Gujarat",
                    "Gujarat",
                    "Gujarat",
                    "Gujarat",
                    "Gujarat",
                    "Gujarat",
                    "Maharashtra",
                    "Maharashtra",
                    "Maharashtra",
                    "Maharashtra",
                    "Maharashtra",
                    "Maharashtra",
                    "Maharashtra",
                    "Madhya Pradesh",
                    "Madhya Pradesh",
                    "Madhya Pradesh",
                    "Madhya Pradesh",
                    "Maharashtra",
                    "Maharashtra",
                    "Maharashtra",
                    "Maharashtra",
                    "Maharashtra",
                    "Maharashtra",
                    "Maharashtra",
                    "Maharashtra",
                    "Maharashtra",
                    "Maharashtra",
                    "Maharashtra",
                    "Tamil Nadu",
                    "Uttar Pradesh",
                    "Uttar Pradesh",
                    "Uttar Pradesh",
                    "Uttar Pradesh",
                    "Uttar Pradesh",
                    "Bihar",
                    "Bihar",
                    "Kerala ",
                    "Maharashtra",
                    "Maharashtra",
                    "Maharashtra",
                    "Maharashtra",
                    "Madhya Pradesh",
                    "Himachal Pradesh",
                    "Sikkim",
                    "Sikkim",
                    "Sikkim",
                    "Nagaland",
                    "Andhra Pradesh",
                    "Andhra Pradesh",
                    "Andhra Pradesh",
                    "Gujarat",
                    "Maharashtra",
                    "Madhya Pradesh",
                    "Madhya Pradesh",
                    "Madhya Pradesh",
                    "Rajasthan",
                    "Uttar Pradesh",
                    "Punjab",
                    "Gujarat",
                    "Gujarat",
                    "Maharashtra",
                    "Maharashtra",
                    "Maharashtra",
                    "Madhya Pradesh",
                    "Rajasthan",
                    "Uttar Pradesh",
                    "Uttar Pradesh",
                    "Uttar Pradesh",
                    "Uttar Pradesh",
                    "Punjab",
                    "Gujarat",
                    "Gujarat",
                    "Gujarat",
                    "Gujarat",
                    "Maharashtra",
                    "Madhya Pradesh",
                    "Madhya Pradesh",
                    "Rajasthan",
                    "Rajasthan",
                    "Rajasthan",
                    "Uttar Pradesh",
                    "Punjab",
                    "Gujarat",
                    "Gujarat",
                    "Gujarat",
                    "Maharashtra",
                    "Madhya Pradesh",
                    "Madhya Pradesh",
                    "Madhya Pradesh",
                    "Rajasthan",
                    "Uttar Pradesh",
                    "Uttar Pradesh",
                    "Uttar Pradesh",
                    "Uttar Pradesh",
                    "Uttar Pradesh",
                    "Maharashtra",
                    "Maharashtra",
                    "Maharashtra",
                    "Maharashtra",
                    "Maharashtra",
                    "Maharashtra",
                    "Madhya Pradesh",
                    "Madhya Pradesh",
                    "Madhya Pradesh",
                    "Rajasthan",
                    "Rajasthan",
                    "Rajasthan",
                    "Rajasthan",
                    "Rajasthan",
                    "Uttar Pradesh",
                    "Uttar Pradesh",
                    "Uttar Pradesh",
                    "Punjab",
                    "Punjab",
                    "Gujarat",
                    "Gujarat",
                    "Gujarat",
                    "Maharashtra",
                    "Maharashtra",
                    "Madhya Pradesh",
                    "Madhya Pradesh",
                    "Madhya Pradesh",
                    "Madhya Pradesh",
                    "Madhya Pradesh",
                    "Madhya Pradesh",
                    "Delhi",
                    "Madhya Pradesh",
                    "Delhi",
                    "Madhya Pradesh",
                    "Madhya Pradesh",
                    "Delhi",
                    "Delhi",
                    "Delhi",
                    "Delhi",
                    "Madhya Pradesh",
                    "Delhi",
                    "Madhya Pradesh",
                    "Delhi",
                    "Gujarat",
                    "Maharashtra",
                    "Rajasthan",
                    "Rajasthan",
                    "Uttar Pradesh",
                    "Punjab",
                    "Gujarat",
                    "Maharashtra",
                    "Maharashtra",
                    "Madhya Pradesh",
                    "Punjab",
                    "Punjab",
                    "Punjab",
                    "Punjab",
                    "Maharashtra",
                    "Maharashtra",
                    "Maharashtra",
                    "Madhya Pradesh",
                    "Nagaland",
                    "Punjab",
                    "Himachal Pradesh",
                    "Goa",
                    "Goa",
                    "Goa",
                    "Nagaland",
                    "Gujarat",
                    "Gujarat",
                    "Gujarat",
                    "Gujarat",
                    "Maharashtra",
                    "Madhya Pradesh",
                    "Madhya Pradesh",
                    "Gujarat",
                    "Maharashtra",
                    "Maharashtra",
                    "Maharashtra",
                    "Madhya Pradesh",
                    "Madhya Pradesh",
                    "Madhya Pradesh",
                    "Madhya Pradesh",
                    "Madhya Pradesh",
                    "Madhya Pradesh",
                    "West Bengal",
                    "West Bengal",
                    "West Bengal",
                    "West Bengal",
                    "West Bengal",
                    "West Bengal",
                    "Madhya Pradesh",
                    "Madhya Pradesh",
                    "Madhya Pradesh",
                    "Madhya Pradesh",
                    "Madhya Pradesh",
                    "Andhra Pradesh",
                    "Andhra Pradesh",
                    "Andhra Pradesh",
                    "Andhra Pradesh",
                    "Andhra Pradesh",
                    "Gujarat",
                    "Gujarat",
                    "Gujarat",
                    "Gujarat",
                    "Maharashtra",
                    "Maharashtra",
                    "Maharashtra",
                    "Maharashtra",
                    "Maharashtra",
                    "Maharashtra",
                    "Maharashtra",
                    "Maharashtra",
                    "Madhya Pradesh",
                    "Madhya Pradesh",
                    "West Bengal",
                    "West Bengal",
                    "Madhya Pradesh",
                    "Madhya Pradesh",
                    "Madhya Pradesh",
                    "Madhya Pradesh",
                    "Gujarat",
                    "Gujarat",
                    "Gujarat",
                    "Gujarat",
                    "Madhya Pradesh",
                    "Madhya Pradesh",
                    "West Bengal",
                    "Uttar Pradesh",
                    "Uttar Pradesh",
                    "Gujarat",
                    "Maharashtra",
                    "Uttar Pradesh",
                    "Uttar Pradesh",
                    "Uttar Pradesh",
                    "Uttar Pradesh",
                    "Uttar Pradesh",
                    "Punjab",
                    "Gujarat",
                    "Gujarat",
                    "Gujarat",
                    "Maharashtra",
                    "Madhya Pradesh",
                    "Madhya Pradesh",
                    "Madhya Pradesh",
                    "Madhya Pradesh",
                    "Rajasthan",
                    "Delhi",
                    "Delhi",
                    "Delhi",
                    "Delhi",
                    "Delhi",
                    "Delhi",
                    "Delhi",
                    "Delhi",
                    "Madhya Pradesh",
                    "Madhya Pradesh",
                    "Madhya Pradesh",
                    "Madhya Pradesh",
                    "Rajasthan",
                    "Delhi",
                    "Delhi",
                    "Delhi",
                    "Delhi",
                    "Delhi",
                    "Delhi",
                    "Delhi",
                    "Madhya Pradesh",
                    "Madhya Pradesh",
                    "Rajasthan",
                    "Delhi",
                    "Delhi",
                    "Delhi",
                    "Delhi",
                    "Delhi",
                    "Delhi",
                    "Madhya Pradesh",
                    "Madhya Pradesh",
                    "Delhi",
                    "Delhi",
                    "Delhi",
                    "Delhi",
                    "Delhi",
                    "Delhi",
                    "Delhi",
                    "Delhi",
                    "Delhi",
                    "Delhi",
                    "Delhi",
                    "Delhi",
                    "Delhi",
                    "Delhi",
                    "Delhi",
                    "Delhi",
                    "Madhya Pradesh",
                    "Madhya Pradesh",
                    "Madhya Pradesh",
                    "Madhya Pradesh",
                    "Rajasthan",
                    "West Bengal",
                    "Tamil Nadu",
                    "Tamil Nadu",
                    "Tamil Nadu",
                    "Tamil Nadu",
                    "Uttar Pradesh",
                    "Bihar",
                    "Bihar",
                    "Bihar",
                    "Bihar",
                    "Gujarat",
                    "Maharashtra",
                    "Madhya Pradesh",
                    "West Bengal",
                    "Karnataka",
                    "Karnataka",
                    "Tamil Nadu",
                    "Uttar Pradesh",
                    "Kerala ",
                    "Kerala ",
                    "Haryana",
                    "Haryana",
                    "Himachal Pradesh",
                    "Sikkim",
                    "Sikkim",
                    "Sikkim",
                    "Goa",
                    "Goa",
                    "Nagaland",
                    "Andhra Pradesh",
                    "Gujarat",
                    "Maharashtra",
                    "Maharashtra",
                    "Maharashtra",
                    "Maharashtra",
                    "Madhya Pradesh",
                    "Rajasthan",
                    "West Bengal",
                    "Jammu and Kashmir",
                    "Madhya Pradesh",
                    "Bihar",
                    "Bihar",
                    "Bihar",
                    "Bihar",
                    "Kerala ",
                    "Punjab",
                    "Punjab",
                    "Punjab",
                    "Himachal Pradesh",
                    "Sikkim",
                    "Sikkim",
                    "Sikkim",
                    "Sikkim",
                    "Sikkim",
                    "Goa",
                    "Nagaland",
                    "Nagaland",
                    "Nagaland",
                    "Maharashtra",
                    "Madhya Pradesh",
                    "Maharashtra",
                    "Madhya Pradesh",
                    "Rajasthan",
                    "Rajasthan",
                    "Rajasthan",
                    "Rajasthan",
                    "Rajasthan",
                    "Rajasthan",
                    "West Bengal",
                    "West Bengal",
                    "West Bengal",
                    "West Bengal",
                    "West Bengal",
                    "Karnataka",
                    "Karnataka",
                    "Karnataka",
                    "Karnataka",
                    "Karnataka",
                    "Karnataka",
                    "Jammu and Kashmir",
                    "Jammu and Kashmir",
                    "Jammu and Kashmir",
                    "Jammu and Kashmir",
                    "Jammu and Kashmir",
                    "Maharashtra",
                    "Maharashtra",
                    "Maharashtra",
                    "Maharashtra",
                    "Maharashtra",
                    "Maharashtra",
                    "Madhya Pradesh",
                    "Madhya Pradesh",
                    "Madhya Pradesh",
                    "Madhya Pradesh",
                    "Madhya Pradesh",
                    "Bihar",
                    "Bihar",
                    "Bihar",
                    "Bihar",
                    "Bihar",
                    "Bihar",
                    "Bihar",
                    "Bihar",
                    "Bihar",
                    "Kerala ",
                    "Kerala ",
                    "Punjab",
                    "Haryana",
                    "Maharashtra",
                    "Madhya Pradesh",
                    "Madhya Pradesh",
                    "Madhya Pradesh",
                    "Goa",
                    "Goa",
                    "Goa",
                    "Maharashtra",
                    "Maharashtra",
                    "Maharashtra",
                    "Maharashtra",
                    "Madhya Pradesh",
                    "Maharashtra",
                    "Madhya Pradesh",
                    "Madhya Pradesh",
                    "Madhya Pradesh",
                    "West Bengal",
                    "Karnataka",
                    "Karnataka",
                    "Karnataka",
                    "Jammu and Kashmir",
                    "Madhya Pradesh",
                    "Madhya Pradesh",
                    "Madhya Pradesh",
                    "Madhya Pradesh",
                    "Gujarat",
                    "Maharashtra",
                    "Madhya Pradesh",
                    "Madhya Pradesh",
                    "Madhya Pradesh",
                    "Madhya Pradesh",
                    "Rajasthan",
                    "West Bengal",
                    "West Bengal",
                    "West Bengal",
                    "Karnataka",
                    "Jammu and Kashmir",
                    "Tamil Nadu",
                    "Tamil Nadu",
                    "Tamil Nadu",
                    "Tamil Nadu",
                    "Uttar Pradesh",
                    "Bihar",
                    "Bihar",
                    "Bihar",
                    "Punjab",
                    "Punjab",
                    "Punjab",
                    "Punjab",
                    "Haryana",
                    "Haryana",
                    "Himachal Pradesh",
                    "Himachal Pradesh",
                    "Himachal Pradesh",
                    "Himachal Pradesh",
                    "Sikkim",
                    "Goa",
                    "Goa",
                    "Goa",
                    "Nagaland",
                    "Andhra Pradesh",
                    "Andhra Pradesh",
                    "Andhra Pradesh",
                    "Gujarat",
                    "Maharashtra",
                    "Maharashtra",
                    "Maharashtra",
                    "Maharashtra",
                    "Madhya Pradesh",
                    "Rajasthan",
                    "West Bengal",
                    "West Bengal",
                    "West Bengal",
                    "West Bengal",
                    "Karnataka",
                    "Karnataka",
                    "Karnataka",
                    "Karnataka",
                    "Jammu and Kashmir",
                    "Jammu and Kashmir",
                    "Jammu and Kashmir",
                    "Jammu and Kashmir",
                    "Maharashtra",
                    "Maharashtra",
                    "Maharashtra",
                    "Madhya Pradesh",
                    "Madhya Pradesh"
                  ],
                  "xaxis": "x",
                  "yaxis": "y"
                },
                {
                  "alignmentgroup": "True",
                  "bingroup": "x",
                  "hovertemplate": "Category=Electronics<br>State=%{x}<br>count=%{y}<extra></extra>",
                  "legendgroup": "Electronics",
                  "marker": {
                    "color": "#00cc96",
                    "pattern": {
                      "shape": ""
                    }
                  },
                  "name": "Electronics",
                  "offsetgroup": "Electronics",
                  "orientation": "v",
                  "showlegend": true,
                  "texttemplate": "%{value}",
                  "type": "histogram",
                  "x": [
                    "Gujarat",
                    "Maharashtra",
                    "Maharashtra",
                    "Maharashtra",
                    "Tamil Nadu",
                    "Uttar Pradesh",
                    "Bihar",
                    "Bihar",
                    "Bihar",
                    "Himachal Pradesh",
                    "Nagaland",
                    "Maharashtra",
                    "Madhya Pradesh",
                    "Madhya Pradesh",
                    "Madhya Pradesh",
                    "Maharashtra",
                    "Punjab",
                    "Sikkim",
                    "Maharashtra",
                    "Madhya Pradesh",
                    "Jammu and Kashmir",
                    "Jammu and Kashmir",
                    "Madhya Pradesh",
                    "Madhya Pradesh",
                    "Madhya Pradesh",
                    "Punjab",
                    "Maharashtra",
                    "Maharashtra",
                    "Maharashtra",
                    "Goa",
                    "Nagaland",
                    "Nagaland",
                    "Nagaland",
                    "Nagaland",
                    "Nagaland",
                    "Nagaland",
                    "Nagaland",
                    "Maharashtra",
                    "Maharashtra",
                    "Maharashtra",
                    "Maharashtra",
                    "Madhya Pradesh",
                    "Madhya Pradesh",
                    "Maharashtra",
                    "Madhya Pradesh",
                    "Bihar",
                    "Bihar",
                    "Bihar",
                    "Kerala ",
                    "Punjab",
                    "Haryana",
                    "Rajasthan",
                    "West Bengal",
                    "Karnataka",
                    "Madhya Pradesh",
                    "Madhya Pradesh",
                    "Madhya Pradesh",
                    "Bihar",
                    "Kerala ",
                    "Kerala ",
                    "Madhya Pradesh",
                    "Himachal Pradesh",
                    "Maharashtra",
                    "Madhya Pradesh",
                    "Madhya Pradesh",
                    "Karnataka",
                    "Karnataka",
                    "Jammu and Kashmir",
                    "Jammu and Kashmir",
                    "Jammu and Kashmir",
                    "Jammu and Kashmir",
                    "Tamil Nadu",
                    "Uttar Pradesh",
                    "Maharashtra",
                    "Maharashtra",
                    "Madhya Pradesh",
                    "Madhya Pradesh",
                    "Rajasthan",
                    "Jammu and Kashmir",
                    "Haryana",
                    "Maharashtra",
                    "Nagaland",
                    "Maharashtra",
                    "Maharashtra",
                    "Madhya Pradesh",
                    "Rajasthan",
                    "Rajasthan",
                    "Madhya Pradesh",
                    "Punjab",
                    "Madhya Pradesh",
                    "Andhra Pradesh",
                    "Rajasthan",
                    "Rajasthan",
                    "Maharashtra",
                    "Maharashtra",
                    "Maharashtra",
                    "Maharashtra",
                    "Madhya Pradesh",
                    "Madhya Pradesh",
                    "Uttar Pradesh",
                    "Uttar Pradesh",
                    "Bihar",
                    "Maharashtra",
                    "Maharashtra",
                    "Goa",
                    "Maharashtra",
                    "Maharashtra",
                    "Maharashtra",
                    "Madhya Pradesh",
                    "Maharashtra",
                    "West Bengal",
                    "West Bengal",
                    "Bihar",
                    "Kerala ",
                    "Madhya Pradesh",
                    "Madhya Pradesh",
                    "Maharashtra",
                    "Maharashtra",
                    "Andhra Pradesh",
                    "Gujarat",
                    "Jammu and Kashmir",
                    "Bihar",
                    "Himachal Pradesh",
                    "Sikkim",
                    "Maharashtra",
                    "Madhya Pradesh",
                    "Andhra Pradesh",
                    "Maharashtra",
                    "Maharashtra",
                    "Madhya Pradesh",
                    "Madhya Pradesh",
                    "Karnataka",
                    "Bihar",
                    "Punjab",
                    "Maharashtra",
                    "Madhya Pradesh",
                    "West Bengal",
                    "Maharashtra",
                    "Maharashtra",
                    "Madhya Pradesh",
                    "Maharashtra",
                    "Himachal Pradesh",
                    "Himachal Pradesh",
                    "Himachal Pradesh",
                    "Maharashtra",
                    "Madhya Pradesh",
                    "Madhya Pradesh",
                    "Maharashtra",
                    "Kerala ",
                    "Kerala ",
                    "Haryana",
                    "Himachal Pradesh",
                    "Sikkim",
                    "Goa",
                    "Goa",
                    "Nagaland",
                    "Andhra Pradesh",
                    "Gujarat",
                    "Madhya Pradesh",
                    "Madhya Pradesh",
                    "Madhya Pradesh",
                    "Madhya Pradesh",
                    "Maharashtra",
                    "Maharashtra",
                    "Uttar Pradesh",
                    "Goa",
                    "Goa",
                    "Madhya Pradesh",
                    "Madhya Pradesh",
                    "Uttar Pradesh",
                    "Rajasthan",
                    "Uttar Pradesh",
                    "Punjab",
                    "Punjab",
                    "Uttar Pradesh",
                    "Uttar Pradesh",
                    "Madhya Pradesh",
                    "Rajasthan",
                    "Punjab",
                    "Maharashtra",
                    "Maharashtra",
                    "Madhya Pradesh",
                    "Madhya Pradesh",
                    "Madhya Pradesh",
                    "Madhya Pradesh",
                    "Madhya Pradesh",
                    "Delhi",
                    "Punjab",
                    "Rajasthan",
                    "Rajasthan",
                    "Rajasthan",
                    "Punjab",
                    "Punjab",
                    "Maharashtra",
                    "Maharashtra",
                    "Maharashtra",
                    "Maharashtra",
                    "Uttar Pradesh",
                    "Bihar",
                    "Punjab",
                    "Sikkim",
                    "Sikkim",
                    "Sikkim",
                    "Andhra Pradesh",
                    "Gujarat",
                    "Madhya Pradesh",
                    "Andhra Pradesh",
                    "Gujarat",
                    "Madhya Pradesh",
                    "Madhya Pradesh",
                    "West Bengal",
                    "West Bengal",
                    "West Bengal",
                    "Madhya Pradesh",
                    "Andhra Pradesh",
                    "Andhra Pradesh",
                    "Andhra Pradesh",
                    "Gujarat",
                    "Gujarat",
                    "Gujarat",
                    "Maharashtra",
                    "Maharashtra",
                    "Maharashtra",
                    "Maharashtra",
                    "Maharashtra",
                    "Madhya Pradesh",
                    "Madhya Pradesh",
                    "Gujarat",
                    "Maharashtra",
                    "Maharashtra",
                    "Madhya Pradesh",
                    "Rajasthan",
                    "Punjab",
                    "Gujarat",
                    "Maharashtra",
                    "Maharashtra",
                    "Rajasthan",
                    "Uttar Pradesh",
                    "Maharashtra",
                    "Delhi",
                    "Rajasthan",
                    "Rajasthan",
                    "Delhi",
                    "Delhi",
                    "Delhi",
                    "Delhi",
                    "Delhi",
                    "Delhi",
                    "Madhya Pradesh",
                    "Delhi",
                    "Delhi",
                    "Delhi",
                    "Delhi",
                    "Rajasthan",
                    "Karnataka",
                    "Uttar Pradesh",
                    "Bihar",
                    "Karnataka",
                    "Karnataka",
                    "Bihar",
                    "Punjab",
                    "Andhra Pradesh",
                    "Andhra Pradesh",
                    "Maharashtra",
                    "Maharashtra",
                    "West Bengal",
                    "Karnataka",
                    "Jammu and Kashmir",
                    "Jammu and Kashmir",
                    "Maharashtra",
                    "Rajasthan",
                    "Rajasthan",
                    "Rajasthan",
                    "West Bengal",
                    "West Bengal",
                    "West Bengal",
                    "Karnataka",
                    "Jammu and Kashmir",
                    "Maharashtra",
                    "Maharashtra",
                    "Madhya Pradesh",
                    "Madhya Pradesh",
                    "Bihar",
                    "Bihar",
                    "Kerala ",
                    "Madhya Pradesh",
                    "Madhya Pradesh",
                    "Madhya Pradesh",
                    "Nagaland",
                    "Madhya Pradesh",
                    "Rajasthan",
                    "Maharashtra",
                    "Madhya Pradesh",
                    "West Bengal",
                    "Tamil Nadu",
                    "Bihar",
                    "Bihar",
                    "Kerala ",
                    "Haryana",
                    "Himachal Pradesh",
                    "Maharashtra",
                    "Maharashtra",
                    "West Bengal",
                    "West Bengal",
                    "Karnataka",
                    "Karnataka",
                    "Jammu and Kashmir",
                    "Maharashtra"
                  ],
                  "xaxis": "x",
                  "yaxis": "y"
                }
              ],
              "layout": {
                "barmode": "relative",
                "legend": {
                  "title": {
                    "text": "Category"
                  },
                  "tracegroupgap": 0
                },
                "margin": {
                  "t": 60
                },
                "template": {
                  "data": {
                    "bar": [
                      {
                        "error_x": {
                          "color": "#2a3f5f"
                        },
                        "error_y": {
                          "color": "#2a3f5f"
                        },
                        "marker": {
                          "line": {
                            "color": "#E5ECF6",
                            "width": 0.5
                          },
                          "pattern": {
                            "fillmode": "overlay",
                            "size": 10,
                            "solidity": 0.2
                          }
                        },
                        "type": "bar"
                      }
                    ],
                    "barpolar": [
                      {
                        "marker": {
                          "line": {
                            "color": "#E5ECF6",
                            "width": 0.5
                          },
                          "pattern": {
                            "fillmode": "overlay",
                            "size": 10,
                            "solidity": 0.2
                          }
                        },
                        "type": "barpolar"
                      }
                    ],
                    "carpet": [
                      {
                        "aaxis": {
                          "endlinecolor": "#2a3f5f",
                          "gridcolor": "white",
                          "linecolor": "white",
                          "minorgridcolor": "white",
                          "startlinecolor": "#2a3f5f"
                        },
                        "baxis": {
                          "endlinecolor": "#2a3f5f",
                          "gridcolor": "white",
                          "linecolor": "white",
                          "minorgridcolor": "white",
                          "startlinecolor": "#2a3f5f"
                        },
                        "type": "carpet"
                      }
                    ],
                    "choropleth": [
                      {
                        "colorbar": {
                          "outlinewidth": 0,
                          "ticks": ""
                        },
                        "type": "choropleth"
                      }
                    ],
                    "contour": [
                      {
                        "colorbar": {
                          "outlinewidth": 0,
                          "ticks": ""
                        },
                        "colorscale": [
                          [
                            0,
                            "#0d0887"
                          ],
                          [
                            0.1111111111111111,
                            "#46039f"
                          ],
                          [
                            0.2222222222222222,
                            "#7201a8"
                          ],
                          [
                            0.3333333333333333,
                            "#9c179e"
                          ],
                          [
                            0.4444444444444444,
                            "#bd3786"
                          ],
                          [
                            0.5555555555555556,
                            "#d8576b"
                          ],
                          [
                            0.6666666666666666,
                            "#ed7953"
                          ],
                          [
                            0.7777777777777778,
                            "#fb9f3a"
                          ],
                          [
                            0.8888888888888888,
                            "#fdca26"
                          ],
                          [
                            1,
                            "#f0f921"
                          ]
                        ],
                        "type": "contour"
                      }
                    ],
                    "contourcarpet": [
                      {
                        "colorbar": {
                          "outlinewidth": 0,
                          "ticks": ""
                        },
                        "type": "contourcarpet"
                      }
                    ],
                    "heatmap": [
                      {
                        "colorbar": {
                          "outlinewidth": 0,
                          "ticks": ""
                        },
                        "colorscale": [
                          [
                            0,
                            "#0d0887"
                          ],
                          [
                            0.1111111111111111,
                            "#46039f"
                          ],
                          [
                            0.2222222222222222,
                            "#7201a8"
                          ],
                          [
                            0.3333333333333333,
                            "#9c179e"
                          ],
                          [
                            0.4444444444444444,
                            "#bd3786"
                          ],
                          [
                            0.5555555555555556,
                            "#d8576b"
                          ],
                          [
                            0.6666666666666666,
                            "#ed7953"
                          ],
                          [
                            0.7777777777777778,
                            "#fb9f3a"
                          ],
                          [
                            0.8888888888888888,
                            "#fdca26"
                          ],
                          [
                            1,
                            "#f0f921"
                          ]
                        ],
                        "type": "heatmap"
                      }
                    ],
                    "heatmapgl": [
                      {
                        "colorbar": {
                          "outlinewidth": 0,
                          "ticks": ""
                        },
                        "colorscale": [
                          [
                            0,
                            "#0d0887"
                          ],
                          [
                            0.1111111111111111,
                            "#46039f"
                          ],
                          [
                            0.2222222222222222,
                            "#7201a8"
                          ],
                          [
                            0.3333333333333333,
                            "#9c179e"
                          ],
                          [
                            0.4444444444444444,
                            "#bd3786"
                          ],
                          [
                            0.5555555555555556,
                            "#d8576b"
                          ],
                          [
                            0.6666666666666666,
                            "#ed7953"
                          ],
                          [
                            0.7777777777777778,
                            "#fb9f3a"
                          ],
                          [
                            0.8888888888888888,
                            "#fdca26"
                          ],
                          [
                            1,
                            "#f0f921"
                          ]
                        ],
                        "type": "heatmapgl"
                      }
                    ],
                    "histogram": [
                      {
                        "marker": {
                          "pattern": {
                            "fillmode": "overlay",
                            "size": 10,
                            "solidity": 0.2
                          }
                        },
                        "type": "histogram"
                      }
                    ],
                    "histogram2d": [
                      {
                        "colorbar": {
                          "outlinewidth": 0,
                          "ticks": ""
                        },
                        "colorscale": [
                          [
                            0,
                            "#0d0887"
                          ],
                          [
                            0.1111111111111111,
                            "#46039f"
                          ],
                          [
                            0.2222222222222222,
                            "#7201a8"
                          ],
                          [
                            0.3333333333333333,
                            "#9c179e"
                          ],
                          [
                            0.4444444444444444,
                            "#bd3786"
                          ],
                          [
                            0.5555555555555556,
                            "#d8576b"
                          ],
                          [
                            0.6666666666666666,
                            "#ed7953"
                          ],
                          [
                            0.7777777777777778,
                            "#fb9f3a"
                          ],
                          [
                            0.8888888888888888,
                            "#fdca26"
                          ],
                          [
                            1,
                            "#f0f921"
                          ]
                        ],
                        "type": "histogram2d"
                      }
                    ],
                    "histogram2dcontour": [
                      {
                        "colorbar": {
                          "outlinewidth": 0,
                          "ticks": ""
                        },
                        "colorscale": [
                          [
                            0,
                            "#0d0887"
                          ],
                          [
                            0.1111111111111111,
                            "#46039f"
                          ],
                          [
                            0.2222222222222222,
                            "#7201a8"
                          ],
                          [
                            0.3333333333333333,
                            "#9c179e"
                          ],
                          [
                            0.4444444444444444,
                            "#bd3786"
                          ],
                          [
                            0.5555555555555556,
                            "#d8576b"
                          ],
                          [
                            0.6666666666666666,
                            "#ed7953"
                          ],
                          [
                            0.7777777777777778,
                            "#fb9f3a"
                          ],
                          [
                            0.8888888888888888,
                            "#fdca26"
                          ],
                          [
                            1,
                            "#f0f921"
                          ]
                        ],
                        "type": "histogram2dcontour"
                      }
                    ],
                    "mesh3d": [
                      {
                        "colorbar": {
                          "outlinewidth": 0,
                          "ticks": ""
                        },
                        "type": "mesh3d"
                      }
                    ],
                    "parcoords": [
                      {
                        "line": {
                          "colorbar": {
                            "outlinewidth": 0,
                            "ticks": ""
                          }
                        },
                        "type": "parcoords"
                      }
                    ],
                    "pie": [
                      {
                        "automargin": true,
                        "type": "pie"
                      }
                    ],
                    "scatter": [
                      {
                        "fillpattern": {
                          "fillmode": "overlay",
                          "size": 10,
                          "solidity": 0.2
                        },
                        "type": "scatter"
                      }
                    ],
                    "scatter3d": [
                      {
                        "line": {
                          "colorbar": {
                            "outlinewidth": 0,
                            "ticks": ""
                          }
                        },
                        "marker": {
                          "colorbar": {
                            "outlinewidth": 0,
                            "ticks": ""
                          }
                        },
                        "type": "scatter3d"
                      }
                    ],
                    "scattercarpet": [
                      {
                        "marker": {
                          "colorbar": {
                            "outlinewidth": 0,
                            "ticks": ""
                          }
                        },
                        "type": "scattercarpet"
                      }
                    ],
                    "scattergeo": [
                      {
                        "marker": {
                          "colorbar": {
                            "outlinewidth": 0,
                            "ticks": ""
                          }
                        },
                        "type": "scattergeo"
                      }
                    ],
                    "scattergl": [
                      {
                        "marker": {
                          "colorbar": {
                            "outlinewidth": 0,
                            "ticks": ""
                          }
                        },
                        "type": "scattergl"
                      }
                    ],
                    "scattermapbox": [
                      {
                        "marker": {
                          "colorbar": {
                            "outlinewidth": 0,
                            "ticks": ""
                          }
                        },
                        "type": "scattermapbox"
                      }
                    ],
                    "scatterpolar": [
                      {
                        "marker": {
                          "colorbar": {
                            "outlinewidth": 0,
                            "ticks": ""
                          }
                        },
                        "type": "scatterpolar"
                      }
                    ],
                    "scatterpolargl": [
                      {
                        "marker": {
                          "colorbar": {
                            "outlinewidth": 0,
                            "ticks": ""
                          }
                        },
                        "type": "scatterpolargl"
                      }
                    ],
                    "scatterternary": [
                      {
                        "marker": {
                          "colorbar": {
                            "outlinewidth": 0,
                            "ticks": ""
                          }
                        },
                        "type": "scatterternary"
                      }
                    ],
                    "surface": [
                      {
                        "colorbar": {
                          "outlinewidth": 0,
                          "ticks": ""
                        },
                        "colorscale": [
                          [
                            0,
                            "#0d0887"
                          ],
                          [
                            0.1111111111111111,
                            "#46039f"
                          ],
                          [
                            0.2222222222222222,
                            "#7201a8"
                          ],
                          [
                            0.3333333333333333,
                            "#9c179e"
                          ],
                          [
                            0.4444444444444444,
                            "#bd3786"
                          ],
                          [
                            0.5555555555555556,
                            "#d8576b"
                          ],
                          [
                            0.6666666666666666,
                            "#ed7953"
                          ],
                          [
                            0.7777777777777778,
                            "#fb9f3a"
                          ],
                          [
                            0.8888888888888888,
                            "#fdca26"
                          ],
                          [
                            1,
                            "#f0f921"
                          ]
                        ],
                        "type": "surface"
                      }
                    ],
                    "table": [
                      {
                        "cells": {
                          "fill": {
                            "color": "#EBF0F8"
                          },
                          "line": {
                            "color": "white"
                          }
                        },
                        "header": {
                          "fill": {
                            "color": "#C8D4E3"
                          },
                          "line": {
                            "color": "white"
                          }
                        },
                        "type": "table"
                      }
                    ]
                  },
                  "layout": {
                    "annotationdefaults": {
                      "arrowcolor": "#2a3f5f",
                      "arrowhead": 0,
                      "arrowwidth": 1
                    },
                    "autotypenumbers": "strict",
                    "coloraxis": {
                      "colorbar": {
                        "outlinewidth": 0,
                        "ticks": ""
                      }
                    },
                    "colorscale": {
                      "diverging": [
                        [
                          0,
                          "#8e0152"
                        ],
                        [
                          0.1,
                          "#c51b7d"
                        ],
                        [
                          0.2,
                          "#de77ae"
                        ],
                        [
                          0.3,
                          "#f1b6da"
                        ],
                        [
                          0.4,
                          "#fde0ef"
                        ],
                        [
                          0.5,
                          "#f7f7f7"
                        ],
                        [
                          0.6,
                          "#e6f5d0"
                        ],
                        [
                          0.7,
                          "#b8e186"
                        ],
                        [
                          0.8,
                          "#7fbc41"
                        ],
                        [
                          0.9,
                          "#4d9221"
                        ],
                        [
                          1,
                          "#276419"
                        ]
                      ],
                      "sequential": [
                        [
                          0,
                          "#0d0887"
                        ],
                        [
                          0.1111111111111111,
                          "#46039f"
                        ],
                        [
                          0.2222222222222222,
                          "#7201a8"
                        ],
                        [
                          0.3333333333333333,
                          "#9c179e"
                        ],
                        [
                          0.4444444444444444,
                          "#bd3786"
                        ],
                        [
                          0.5555555555555556,
                          "#d8576b"
                        ],
                        [
                          0.6666666666666666,
                          "#ed7953"
                        ],
                        [
                          0.7777777777777778,
                          "#fb9f3a"
                        ],
                        [
                          0.8888888888888888,
                          "#fdca26"
                        ],
                        [
                          1,
                          "#f0f921"
                        ]
                      ],
                      "sequentialminus": [
                        [
                          0,
                          "#0d0887"
                        ],
                        [
                          0.1111111111111111,
                          "#46039f"
                        ],
                        [
                          0.2222222222222222,
                          "#7201a8"
                        ],
                        [
                          0.3333333333333333,
                          "#9c179e"
                        ],
                        [
                          0.4444444444444444,
                          "#bd3786"
                        ],
                        [
                          0.5555555555555556,
                          "#d8576b"
                        ],
                        [
                          0.6666666666666666,
                          "#ed7953"
                        ],
                        [
                          0.7777777777777778,
                          "#fb9f3a"
                        ],
                        [
                          0.8888888888888888,
                          "#fdca26"
                        ],
                        [
                          1,
                          "#f0f921"
                        ]
                      ]
                    },
                    "colorway": [
                      "#636efa",
                      "#EF553B",
                      "#00cc96",
                      "#ab63fa",
                      "#FFA15A",
                      "#19d3f3",
                      "#FF6692",
                      "#B6E880",
                      "#FF97FF",
                      "#FECB52"
                    ],
                    "font": {
                      "color": "#2a3f5f"
                    },
                    "geo": {
                      "bgcolor": "white",
                      "lakecolor": "white",
                      "landcolor": "#E5ECF6",
                      "showlakes": true,
                      "showland": true,
                      "subunitcolor": "white"
                    },
                    "hoverlabel": {
                      "align": "left"
                    },
                    "hovermode": "closest",
                    "mapbox": {
                      "style": "light"
                    },
                    "paper_bgcolor": "white",
                    "plot_bgcolor": "#E5ECF6",
                    "polar": {
                      "angularaxis": {
                        "gridcolor": "white",
                        "linecolor": "white",
                        "ticks": ""
                      },
                      "bgcolor": "#E5ECF6",
                      "radialaxis": {
                        "gridcolor": "white",
                        "linecolor": "white",
                        "ticks": ""
                      }
                    },
                    "scene": {
                      "xaxis": {
                        "backgroundcolor": "#E5ECF6",
                        "gridcolor": "white",
                        "gridwidth": 2,
                        "linecolor": "white",
                        "showbackground": true,
                        "ticks": "",
                        "zerolinecolor": "white"
                      },
                      "yaxis": {
                        "backgroundcolor": "#E5ECF6",
                        "gridcolor": "white",
                        "gridwidth": 2,
                        "linecolor": "white",
                        "showbackground": true,
                        "ticks": "",
                        "zerolinecolor": "white"
                      },
                      "zaxis": {
                        "backgroundcolor": "#E5ECF6",
                        "gridcolor": "white",
                        "gridwidth": 2,
                        "linecolor": "white",
                        "showbackground": true,
                        "ticks": "",
                        "zerolinecolor": "white"
                      }
                    },
                    "shapedefaults": {
                      "line": {
                        "color": "#2a3f5f"
                      }
                    },
                    "ternary": {
                      "aaxis": {
                        "gridcolor": "white",
                        "linecolor": "white",
                        "ticks": ""
                      },
                      "baxis": {
                        "gridcolor": "white",
                        "linecolor": "white",
                        "ticks": ""
                      },
                      "bgcolor": "#E5ECF6",
                      "caxis": {
                        "gridcolor": "white",
                        "linecolor": "white",
                        "ticks": ""
                      }
                    },
                    "title": {
                      "x": 0.05
                    },
                    "xaxis": {
                      "automargin": true,
                      "gridcolor": "white",
                      "linecolor": "white",
                      "ticks": "",
                      "title": {
                        "standoff": 15
                      },
                      "zerolinecolor": "white",
                      "zerolinewidth": 2
                    },
                    "yaxis": {
                      "automargin": true,
                      "gridcolor": "white",
                      "linecolor": "white",
                      "ticks": "",
                      "title": {
                        "standoff": 15
                      },
                      "zerolinecolor": "white",
                      "zerolinewidth": 2
                    }
                  }
                },
                "xaxis": {
                  "anchor": "y",
                  "domain": [
                    0,
                    1
                  ],
                  "title": {
                    "text": "State"
                  }
                },
                "yaxis": {
                  "anchor": "x",
                  "domain": [
                    0,
                    1
                  ],
                  "title": {
                    "text": "count"
                  }
                }
              }
            }
          },
          "metadata": {},
          "output_type": "display_data"
        }
      ],
      "source": [
        "px.histogram(state_wise_cat_df, x='State', color='Category', text_auto=True)\n",
        "# y - axis count of orders not to be confused with quantity.\n",
        "# x - axis states"
      ]
    }
  ],
  "metadata": {
    "colab": {
      "provenance": []
    },
    "gpuClass": "standard",
    "kernelspec": {
      "display_name": "Python 3.8.13 ('hackpions1')",
      "language": "python",
      "name": "python3"
    },
    "language_info": {
      "codemirror_mode": {
        "name": "ipython",
        "version": 3
      },
      "file_extension": ".py",
      "mimetype": "text/x-python",
      "name": "python",
      "nbconvert_exporter": "python",
      "pygments_lexer": "ipython3",
      "version": "3.8.13"
    },
    "vscode": {
      "interpreter": {
        "hash": "bc5085e34c836a34b7735af15844ae16e832b7d4d0ef8bbfc8cb1d957ec02888"
      }
    }
  },
  "nbformat": 4,
  "nbformat_minor": 0
}
